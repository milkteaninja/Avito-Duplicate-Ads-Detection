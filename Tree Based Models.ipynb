{
 "cells": [
  {
   "cell_type": "code",
   "execution_count": 265,
   "metadata": {},
   "outputs": [],
   "source": [
    "import xgboost as xgb\n",
    "import pandas as pd\n",
    "import numpy as np\n",
    "import seaborn as sns"
   ]
  },
  {
   "cell_type": "code",
   "execution_count": 241,
   "metadata": {},
   "outputs": [],
   "source": [
    "train = pd.read_csv('/Users/jerry/Desktop/udemy courses/Kaggle数据分析/Avito Duplicate Ads Detection/train.csv')"
   ]
  },
  {
   "cell_type": "code",
   "execution_count": 250,
   "metadata": {},
   "outputs": [],
   "source": [
    "train1 = train.drop(['locationID_x.1','locationID_y.1','categoryID_x.1','categoryID_y.1'],axis = 1)"
   ]
  },
  {
   "cell_type": "code",
   "execution_count": 251,
   "metadata": {},
   "outputs": [
    {
     "name": "stdout",
     "output_type": "stream",
     "text": [
      "<class 'pandas.core.frame.DataFrame'>\n",
      "RangeIndex: 2991396 entries, 0 to 2991395\n",
      "Data columns (total 31 columns):\n",
      "Unnamed: 0            int64\n",
      "itemID_1              int64\n",
      "itemID_2              int64\n",
      "isDuplicate           int64\n",
      "generationMethod      int64\n",
      "itemID_x              int64\n",
      "categoryID_x          int64\n",
      "title_x               object\n",
      "description_x         object\n",
      "images_array_x        object\n",
      "attrsJSON_x           object\n",
      "price_x               float64\n",
      "locationID_x          int64\n",
      "metroID_x             float64\n",
      "lat_x                 float64\n",
      "lon_x                 float64\n",
      "itemID_y              int64\n",
      "categoryID_y          int64\n",
      "title_y               object\n",
      "description_y         object\n",
      "images_array_y        object\n",
      "attrsJSON_y           object\n",
      "price_y               float64\n",
      "locationID_y          int64\n",
      "metroID_y             float64\n",
      "lat_y                 float64\n",
      "lon_y                 float64\n",
      "regionID_x            int64\n",
      "regionID_y            int64\n",
      "parentCategoryID_x    int64\n",
      "parentCategoryID_y    int64\n",
      "dtypes: float64(8), int64(15), object(8)\n",
      "memory usage: 707.5+ MB\n"
     ]
    }
   ],
   "source": [
    "train1.info()"
   ]
  },
  {
   "cell_type": "markdown",
   "metadata": {},
   "source": [
    "Classification Models: LDA, QDA, Logistic regression, SVM, Decision Trees, Random Forests, various forms of Boosting"
   ]
  },
  {
   "cell_type": "markdown",
   "metadata": {},
   "source": [
    "# 1 Tree based methods"
   ]
  },
  {
   "cell_type": "markdown",
   "metadata": {},
   "source": [
    "## 1.1 Decision Tree"
   ]
  },
  {
   "cell_type": "code",
   "execution_count": 254,
   "metadata": {},
   "outputs": [],
   "source": [
    "#metroID有太多 missing data\n",
    "#title, attrsJSON, description 不是英文\n",
    "#images 暂时不用\n",
    "#item id 重复了\n",
    "train2 = train1.drop(['Unnamed: 0', 'title_x','title_y', 'description_x', 'description_y', 'images_array_x',\n",
    "                      'images_array_y', 'attrsJSON_x', 'attrsJSON_y', 'generationMethod', 'metroID_x', \n",
    "                      'metroID_y','itemID_x', 'itemID_y'], axis=1)"
   ]
  },
  {
   "cell_type": "code",
   "execution_count": 255,
   "metadata": {},
   "outputs": [
    {
     "name": "stdout",
     "output_type": "stream",
     "text": [
      "<class 'pandas.core.frame.DataFrame'>\n",
      "RangeIndex: 2991396 entries, 0 to 2991395\n",
      "Data columns (total 17 columns):\n",
      "itemID_1              int64\n",
      "itemID_2              int64\n",
      "isDuplicate           int64\n",
      "categoryID_x          int64\n",
      "price_x               float64\n",
      "locationID_x          int64\n",
      "lat_x                 float64\n",
      "lon_x                 float64\n",
      "categoryID_y          int64\n",
      "price_y               float64\n",
      "locationID_y          int64\n",
      "lat_y                 float64\n",
      "lon_y                 float64\n",
      "regionID_x            int64\n",
      "regionID_y            int64\n",
      "parentCategoryID_x    int64\n",
      "parentCategoryID_y    int64\n",
      "dtypes: float64(6), int64(11)\n",
      "memory usage: 388.0 MB\n"
     ]
    }
   ],
   "source": [
    "train2.info()"
   ]
  },
  {
   "cell_type": "code",
   "execution_count": 258,
   "metadata": {},
   "outputs": [
    {
     "name": "stdout",
     "output_type": "stream",
     "text": [
      "<class 'pandas.core.frame.DataFrame'>\n",
      "Int64Index: 2652009 entries, 0 to 2991395\n",
      "Data columns (total 17 columns):\n",
      "itemID_1              int64\n",
      "itemID_2              int64\n",
      "isDuplicate           int64\n",
      "categoryID_x          int64\n",
      "price_x               float64\n",
      "locationID_x          int64\n",
      "lat_x                 float64\n",
      "lon_x                 float64\n",
      "categoryID_y          int64\n",
      "price_y               float64\n",
      "locationID_y          int64\n",
      "lat_y                 float64\n",
      "lon_y                 float64\n",
      "regionID_x            int64\n",
      "regionID_y            int64\n",
      "parentCategoryID_x    int64\n",
      "parentCategoryID_y    int64\n",
      "dtypes: float64(6), int64(11)\n",
      "memory usage: 364.2 MB\n"
     ]
    }
   ],
   "source": [
    "train3 = train2.dropna()\n",
    "train3.info()"
   ]
  },
  {
   "cell_type": "code",
   "execution_count": 261,
   "metadata": {
    "scrolled": false
   },
   "outputs": [
    {
     "data": {
      "text/html": [
       "<div>\n",
       "<style scoped>\n",
       "    .dataframe tbody tr th:only-of-type {\n",
       "        vertical-align: middle;\n",
       "    }\n",
       "\n",
       "    .dataframe tbody tr th {\n",
       "        vertical-align: top;\n",
       "    }\n",
       "\n",
       "    .dataframe thead th {\n",
       "        text-align: right;\n",
       "    }\n",
       "</style>\n",
       "<table border=\"1\" class=\"dataframe\">\n",
       "  <thead>\n",
       "    <tr style=\"text-align: right;\">\n",
       "      <th></th>\n",
       "      <th>itemID_1</th>\n",
       "      <th>itemID_2</th>\n",
       "      <th>isDuplicate</th>\n",
       "      <th>categoryID_x</th>\n",
       "      <th>price_x</th>\n",
       "      <th>locationID_x</th>\n",
       "      <th>lat_x</th>\n",
       "      <th>lon_x</th>\n",
       "      <th>categoryID_y</th>\n",
       "      <th>price_y</th>\n",
       "      <th>locationID_y</th>\n",
       "      <th>lat_y</th>\n",
       "      <th>lon_y</th>\n",
       "      <th>regionID_x</th>\n",
       "      <th>regionID_y</th>\n",
       "      <th>parentCategoryID_x</th>\n",
       "      <th>parentCategoryID_y</th>\n",
       "    </tr>\n",
       "  </thead>\n",
       "  <tbody>\n",
       "    <tr>\n",
       "      <th>0</th>\n",
       "      <td>1</td>\n",
       "      <td>4112648</td>\n",
       "      <td>1</td>\n",
       "      <td>81</td>\n",
       "      <td>300000.0</td>\n",
       "      <td>648140</td>\n",
       "      <td>64.686946</td>\n",
       "      <td>30.815924</td>\n",
       "      <td>81</td>\n",
       "      <td>300000.0</td>\n",
       "      <td>648140</td>\n",
       "      <td>64.686946</td>\n",
       "      <td>30.815924</td>\n",
       "      <td>648070</td>\n",
       "      <td>648070</td>\n",
       "      <td>1</td>\n",
       "      <td>1</td>\n",
       "    </tr>\n",
       "    <tr>\n",
       "      <th>1</th>\n",
       "      <td>3</td>\n",
       "      <td>1991275</td>\n",
       "      <td>1</td>\n",
       "      <td>14</td>\n",
       "      <td>300000.0</td>\n",
       "      <td>639040</td>\n",
       "      <td>55.678037</td>\n",
       "      <td>37.256548</td>\n",
       "      <td>14</td>\n",
       "      <td>330000.0</td>\n",
       "      <td>639040</td>\n",
       "      <td>55.678037</td>\n",
       "      <td>37.256548</td>\n",
       "      <td>637680</td>\n",
       "      <td>637680</td>\n",
       "      <td>1</td>\n",
       "      <td>1</td>\n",
       "    </tr>\n",
       "    <tr>\n",
       "      <th>2</th>\n",
       "      <td>4</td>\n",
       "      <td>1223296</td>\n",
       "      <td>0</td>\n",
       "      <td>84</td>\n",
       "      <td>3500.0</td>\n",
       "      <td>640650</td>\n",
       "      <td>56.239398</td>\n",
       "      <td>43.460458</td>\n",
       "      <td>84</td>\n",
       "      <td>3500.0</td>\n",
       "      <td>640650</td>\n",
       "      <td>56.239398</td>\n",
       "      <td>43.460458</td>\n",
       "      <td>640310</td>\n",
       "      <td>640310</td>\n",
       "      <td>6</td>\n",
       "      <td>6</td>\n",
       "    </tr>\n",
       "    <tr>\n",
       "      <th>3</th>\n",
       "      <td>7</td>\n",
       "      <td>1058851</td>\n",
       "      <td>1</td>\n",
       "      <td>84</td>\n",
       "      <td>13500.0</td>\n",
       "      <td>662210</td>\n",
       "      <td>55.777170</td>\n",
       "      <td>37.586194</td>\n",
       "      <td>84</td>\n",
       "      <td>13500.0</td>\n",
       "      <td>662210</td>\n",
       "      <td>56.135459</td>\n",
       "      <td>47.235484</td>\n",
       "      <td>662000</td>\n",
       "      <td>662000</td>\n",
       "      <td>6</td>\n",
       "      <td>6</td>\n",
       "    </tr>\n",
       "    <tr>\n",
       "      <th>4</th>\n",
       "      <td>8</td>\n",
       "      <td>2161930</td>\n",
       "      <td>1</td>\n",
       "      <td>39</td>\n",
       "      <td>500.0</td>\n",
       "      <td>624360</td>\n",
       "      <td>55.777170</td>\n",
       "      <td>37.586194</td>\n",
       "      <td>39</td>\n",
       "      <td>600.0</td>\n",
       "      <td>624360</td>\n",
       "      <td>55.777170</td>\n",
       "      <td>37.586194</td>\n",
       "      <td>624300</td>\n",
       "      <td>624300</td>\n",
       "      <td>7</td>\n",
       "      <td>7</td>\n",
       "    </tr>\n",
       "    <tr>\n",
       "      <th>5</th>\n",
       "      <td>9</td>\n",
       "      <td>694103</td>\n",
       "      <td>1</td>\n",
       "      <td>39</td>\n",
       "      <td>7000.0</td>\n",
       "      <td>644200</td>\n",
       "      <td>58.004785</td>\n",
       "      <td>56.237654</td>\n",
       "      <td>39</td>\n",
       "      <td>7000.0</td>\n",
       "      <td>644200</td>\n",
       "      <td>58.004785</td>\n",
       "      <td>56.237654</td>\n",
       "      <td>643700</td>\n",
       "      <td>643700</td>\n",
       "      <td>7</td>\n",
       "      <td>7</td>\n",
       "    </tr>\n",
       "    <tr>\n",
       "      <th>6</th>\n",
       "      <td>12</td>\n",
       "      <td>5637025</td>\n",
       "      <td>0</td>\n",
       "      <td>9</td>\n",
       "      <td>445000.0</td>\n",
       "      <td>631060</td>\n",
       "      <td>44.219841</td>\n",
       "      <td>42.058825</td>\n",
       "      <td>9</td>\n",
       "      <td>450000.0</td>\n",
       "      <td>631060</td>\n",
       "      <td>44.219841</td>\n",
       "      <td>42.058825</td>\n",
       "      <td>630750</td>\n",
       "      <td>630750</td>\n",
       "      <td>1</td>\n",
       "      <td>1</td>\n",
       "    </tr>\n",
       "    <tr>\n",
       "      <th>7</th>\n",
       "      <td>12</td>\n",
       "      <td>5279740</td>\n",
       "      <td>0</td>\n",
       "      <td>9</td>\n",
       "      <td>445000.0</td>\n",
       "      <td>631060</td>\n",
       "      <td>44.219841</td>\n",
       "      <td>42.058825</td>\n",
       "      <td>9</td>\n",
       "      <td>455000.0</td>\n",
       "      <td>631060</td>\n",
       "      <td>44.219841</td>\n",
       "      <td>42.058825</td>\n",
       "      <td>630750</td>\n",
       "      <td>630750</td>\n",
       "      <td>1</td>\n",
       "      <td>1</td>\n",
       "    </tr>\n",
       "    <tr>\n",
       "      <th>8</th>\n",
       "      <td>15</td>\n",
       "      <td>113701</td>\n",
       "      <td>0</td>\n",
       "      <td>32</td>\n",
       "      <td>1600.0</td>\n",
       "      <td>662810</td>\n",
       "      <td>57.622434</td>\n",
       "      <td>39.887894</td>\n",
       "      <td>32</td>\n",
       "      <td>5000.0</td>\n",
       "      <td>662810</td>\n",
       "      <td>57.622434</td>\n",
       "      <td>39.887894</td>\n",
       "      <td>662530</td>\n",
       "      <td>662530</td>\n",
       "      <td>6</td>\n",
       "      <td>6</td>\n",
       "    </tr>\n",
       "    <tr>\n",
       "      <th>9</th>\n",
       "      <td>16</td>\n",
       "      <td>2467698</td>\n",
       "      <td>0</td>\n",
       "      <td>27</td>\n",
       "      <td>1000.0</td>\n",
       "      <td>657600</td>\n",
       "      <td>56.495116</td>\n",
       "      <td>84.972128</td>\n",
       "      <td>27</td>\n",
       "      <td>7500.0</td>\n",
       "      <td>657600</td>\n",
       "      <td>56.495116</td>\n",
       "      <td>84.972128</td>\n",
       "      <td>657310</td>\n",
       "      <td>657310</td>\n",
       "      <td>5</td>\n",
       "      <td>5</td>\n",
       "    </tr>\n",
       "  </tbody>\n",
       "</table>\n",
       "</div>"
      ],
      "text/plain": [
       "   itemID_1  itemID_2  isDuplicate  categoryID_x   price_x  locationID_x  \\\n",
       "0         1   4112648            1            81  300000.0        648140   \n",
       "1         3   1991275            1            14  300000.0        639040   \n",
       "2         4   1223296            0            84    3500.0        640650   \n",
       "3         7   1058851            1            84   13500.0        662210   \n",
       "4         8   2161930            1            39     500.0        624360   \n",
       "5         9    694103            1            39    7000.0        644200   \n",
       "6        12   5637025            0             9  445000.0        631060   \n",
       "7        12   5279740            0             9  445000.0        631060   \n",
       "8        15    113701            0            32    1600.0        662810   \n",
       "9        16   2467698            0            27    1000.0        657600   \n",
       "\n",
       "       lat_x      lon_x  categoryID_y   price_y  locationID_y      lat_y  \\\n",
       "0  64.686946  30.815924            81  300000.0        648140  64.686946   \n",
       "1  55.678037  37.256548            14  330000.0        639040  55.678037   \n",
       "2  56.239398  43.460458            84    3500.0        640650  56.239398   \n",
       "3  55.777170  37.586194            84   13500.0        662210  56.135459   \n",
       "4  55.777170  37.586194            39     600.0        624360  55.777170   \n",
       "5  58.004785  56.237654            39    7000.0        644200  58.004785   \n",
       "6  44.219841  42.058825             9  450000.0        631060  44.219841   \n",
       "7  44.219841  42.058825             9  455000.0        631060  44.219841   \n",
       "8  57.622434  39.887894            32    5000.0        662810  57.622434   \n",
       "9  56.495116  84.972128            27    7500.0        657600  56.495116   \n",
       "\n",
       "       lon_y  regionID_x  regionID_y  parentCategoryID_x  parentCategoryID_y  \n",
       "0  30.815924      648070      648070                   1                   1  \n",
       "1  37.256548      637680      637680                   1                   1  \n",
       "2  43.460458      640310      640310                   6                   6  \n",
       "3  47.235484      662000      662000                   6                   6  \n",
       "4  37.586194      624300      624300                   7                   7  \n",
       "5  56.237654      643700      643700                   7                   7  \n",
       "6  42.058825      630750      630750                   1                   1  \n",
       "7  42.058825      630750      630750                   1                   1  \n",
       "8  39.887894      662530      662530                   6                   6  \n",
       "9  84.972128      657310      657310                   5                   5  "
      ]
     },
     "execution_count": 261,
     "metadata": {},
     "output_type": "execute_result"
    }
   ],
   "source": [
    "train3.head(10)"
   ]
  },
  {
   "cell_type": "code",
   "execution_count": 280,
   "metadata": {},
   "outputs": [],
   "source": [
    "#如何两个商品是一样的，那么price,location,lat,lon,category,region,parentcategory\n",
    "#所以相减 看一下结果是不是0\n",
    "\n",
    "y = train3.isDuplicate\n",
    "\n",
    "price = abs(train3.price_x - train3.price_y)\n",
    "location = abs(train3.locationID_x - train3.locationID_y)\n",
    "lat = abs(train3.lat_x - train3.lat_y)\n",
    "lon = abs(train3.lon_x - train3.lon_y)\n",
    "category = abs(train3.categoryID_x - train3.categoryID_y)\n",
    "region = abs(train3.regionID_x - train3.regionID_y)\n",
    "parentCategory = abs(train3.parentCategoryID_x - train3.parentCategoryID_y)\n",
    "\n",
    "d = {'price': price, 'location': location, 'lat': lat, 'lon': lon, \n",
    "     'category': category, 'region': region, 'parentCategory': parentCategory}\n",
    "X = pd.DataFrame(data=d)"
   ]
  },
  {
   "cell_type": "code",
   "execution_count": 281,
   "metadata": {},
   "outputs": [
    {
     "data": {
      "text/html": [
       "<div>\n",
       "<style scoped>\n",
       "    .dataframe tbody tr th:only-of-type {\n",
       "        vertical-align: middle;\n",
       "    }\n",
       "\n",
       "    .dataframe tbody tr th {\n",
       "        vertical-align: top;\n",
       "    }\n",
       "\n",
       "    .dataframe thead th {\n",
       "        text-align: right;\n",
       "    }\n",
       "</style>\n",
       "<table border=\"1\" class=\"dataframe\">\n",
       "  <thead>\n",
       "    <tr style=\"text-align: right;\">\n",
       "      <th></th>\n",
       "      <th>price</th>\n",
       "      <th>location</th>\n",
       "      <th>lat</th>\n",
       "      <th>lon</th>\n",
       "      <th>category</th>\n",
       "      <th>region</th>\n",
       "      <th>parentCategory</th>\n",
       "    </tr>\n",
       "  </thead>\n",
       "  <tbody>\n",
       "    <tr>\n",
       "      <th>0</th>\n",
       "      <td>0.0</td>\n",
       "      <td>0</td>\n",
       "      <td>0.000000</td>\n",
       "      <td>0.00000</td>\n",
       "      <td>0</td>\n",
       "      <td>0</td>\n",
       "      <td>0</td>\n",
       "    </tr>\n",
       "    <tr>\n",
       "      <th>1</th>\n",
       "      <td>30000.0</td>\n",
       "      <td>0</td>\n",
       "      <td>0.000000</td>\n",
       "      <td>0.00000</td>\n",
       "      <td>0</td>\n",
       "      <td>0</td>\n",
       "      <td>0</td>\n",
       "    </tr>\n",
       "    <tr>\n",
       "      <th>2</th>\n",
       "      <td>0.0</td>\n",
       "      <td>0</td>\n",
       "      <td>0.000000</td>\n",
       "      <td>0.00000</td>\n",
       "      <td>0</td>\n",
       "      <td>0</td>\n",
       "      <td>0</td>\n",
       "    </tr>\n",
       "    <tr>\n",
       "      <th>3</th>\n",
       "      <td>0.0</td>\n",
       "      <td>0</td>\n",
       "      <td>0.358289</td>\n",
       "      <td>9.64929</td>\n",
       "      <td>0</td>\n",
       "      <td>0</td>\n",
       "      <td>0</td>\n",
       "    </tr>\n",
       "    <tr>\n",
       "      <th>4</th>\n",
       "      <td>100.0</td>\n",
       "      <td>0</td>\n",
       "      <td>0.000000</td>\n",
       "      <td>0.00000</td>\n",
       "      <td>0</td>\n",
       "      <td>0</td>\n",
       "      <td>0</td>\n",
       "    </tr>\n",
       "  </tbody>\n",
       "</table>\n",
       "</div>"
      ],
      "text/plain": [
       "     price  location       lat      lon  category  region  parentCategory\n",
       "0      0.0         0  0.000000  0.00000         0       0               0\n",
       "1  30000.0         0  0.000000  0.00000         0       0               0\n",
       "2      0.0         0  0.000000  0.00000         0       0               0\n",
       "3      0.0         0  0.358289  9.64929         0       0               0\n",
       "4    100.0         0  0.000000  0.00000         0       0               0"
      ]
     },
     "execution_count": 281,
     "metadata": {},
     "output_type": "execute_result"
    }
   ],
   "source": [
    "X.head()"
   ]
  },
  {
   "cell_type": "code",
   "execution_count": 282,
   "metadata": {},
   "outputs": [],
   "source": [
    "y = train3[['isDuplicate']]"
   ]
  },
  {
   "cell_type": "code",
   "execution_count": 421,
   "metadata": {},
   "outputs": [],
   "source": [
    "from sklearn.model_selection import train_test_split\n",
    "X_train, X_test, y_train, y_test = train_test_split(X, y, test_size=0.33)\n",
    "from sklearn.tree import DecisionTreeClassifier\n",
    "dtree = DecisionTreeClassifier()\n",
    "model = dtree.fit(X_train,y_train)"
   ]
  },
  {
   "cell_type": "code",
   "execution_count": 414,
   "metadata": {},
   "outputs": [],
   "source": [
    "prediction = model.predict(X_test)"
   ]
  },
  {
   "cell_type": "code",
   "execution_count": 415,
   "metadata": {},
   "outputs": [
    {
     "data": {
      "text/plain": [
       "array([0, 0, 1, ..., 0, 0, 0])"
      ]
     },
     "execution_count": 415,
     "metadata": {},
     "output_type": "execute_result"
    }
   ],
   "source": [
    "prediction"
   ]
  },
  {
   "cell_type": "code",
   "execution_count": 416,
   "metadata": {},
   "outputs": [],
   "source": [
    "from sklearn.metrics import classification_report, confusion_matrix"
   ]
  },
  {
   "cell_type": "code",
   "execution_count": 417,
   "metadata": {},
   "outputs": [
    {
     "name": "stdout",
     "output_type": "stream",
     "text": [
      "[[387019 126972]\n",
      " [134554 226618]]\n"
     ]
    }
   ],
   "source": [
    "print(confusion_matrix(y_test, prediction))"
   ]
  },
  {
   "cell_type": "code",
   "execution_count": 418,
   "metadata": {},
   "outputs": [
    {
     "name": "stdout",
     "output_type": "stream",
     "text": [
      "              precision    recall  f1-score   support\n",
      "\n",
      "           0       0.74      0.75      0.75    513991\n",
      "           1       0.64      0.63      0.63    361172\n",
      "\n",
      "   micro avg       0.70      0.70      0.70    875163\n",
      "   macro avg       0.69      0.69      0.69    875163\n",
      "weighted avg       0.70      0.70      0.70    875163\n",
      "\n"
     ]
    }
   ],
   "source": [
    "print(classification_report(y_test, prediction))"
   ]
  },
  {
   "cell_type": "markdown",
   "metadata": {},
   "source": [
    "We have a pretty good prediction already for the decision tree with high precision.\n"
   ]
  },
  {
   "cell_type": "markdown",
   "metadata": {},
   "source": [
    "## 1.2 Random Forest"
   ]
  },
  {
   "cell_type": "code",
   "execution_count": 428,
   "metadata": {},
   "outputs": [],
   "source": [
    "from sklearn.ensemble import RandomForestClassifier"
   ]
  },
  {
   "cell_type": "code",
   "execution_count": 429,
   "metadata": {},
   "outputs": [],
   "source": [
    "rfc = RandomForestClassifier(n_estimators = 50)"
   ]
  },
  {
   "cell_type": "code",
   "execution_count": 430,
   "metadata": {},
   "outputs": [
    {
     "name": "stderr",
     "output_type": "stream",
     "text": [
      "/Users/jerry/anaconda3/lib/python3.7/site-packages/ipykernel_launcher.py:1: DataConversionWarning: A column-vector y was passed when a 1d array was expected. Please change the shape of y to (n_samples,), for example using ravel().\n",
      "  \"\"\"Entry point for launching an IPython kernel.\n"
     ]
    },
    {
     "data": {
      "text/plain": [
       "RandomForestClassifier(bootstrap=True, class_weight=None, criterion='gini',\n",
       "            max_depth=None, max_features='auto', max_leaf_nodes=None,\n",
       "            min_impurity_decrease=0.0, min_impurity_split=None,\n",
       "            min_samples_leaf=1, min_samples_split=2,\n",
       "            min_weight_fraction_leaf=0.0, n_estimators=50, n_jobs=None,\n",
       "            oob_score=False, random_state=None, verbose=0,\n",
       "            warm_start=False)"
      ]
     },
     "execution_count": 430,
     "metadata": {},
     "output_type": "execute_result"
    }
   ],
   "source": [
    "rfc.fit(X_train, y_train)"
   ]
  },
  {
   "cell_type": "code",
   "execution_count": 431,
   "metadata": {},
   "outputs": [],
   "source": [
    "rfc_pred = rfc.predict(X_test)"
   ]
  },
  {
   "cell_type": "code",
   "execution_count": 432,
   "metadata": {},
   "outputs": [
    {
     "name": "stdout",
     "output_type": "stream",
     "text": [
      "[[386832 126842]\n",
      " [130901 230588]]\n"
     ]
    }
   ],
   "source": [
    "print(confusion_matrix(y_test, rfc_pred))"
   ]
  },
  {
   "cell_type": "code",
   "execution_count": 433,
   "metadata": {},
   "outputs": [
    {
     "name": "stdout",
     "output_type": "stream",
     "text": [
      "              precision    recall  f1-score   support\n",
      "\n",
      "           0       0.75      0.75      0.75    513674\n",
      "           1       0.65      0.64      0.64    361489\n",
      "\n",
      "   micro avg       0.71      0.71      0.71    875163\n",
      "   macro avg       0.70      0.70      0.70    875163\n",
      "weighted avg       0.71      0.71      0.71    875163\n",
      "\n"
     ]
    }
   ],
   "source": [
    "print(classification_report(y_test, rfc_pred))"
   ]
  },
  {
   "cell_type": "markdown",
   "metadata": {},
   "source": [
    "There is no huge improvement over the simple decision tree but random forest is still a bit better. "
   ]
  },
  {
   "cell_type": "code",
   "execution_count": 434,
   "metadata": {},
   "outputs": [],
   "source": [
    "rfc_pred_prob = rfc.predict_proba(X_test)[:,1]"
   ]
  },
  {
   "cell_type": "code",
   "execution_count": 435,
   "metadata": {},
   "outputs": [],
   "source": [
    "import numpy as np\n",
    "from sklearn import metrics"
   ]
  },
  {
   "cell_type": "code",
   "execution_count": 436,
   "metadata": {},
   "outputs": [
    {
     "data": {
      "text/plain": [
       "array([0, 0, 0, ..., 0, 1, 0])"
      ]
     },
     "execution_count": 436,
     "metadata": {},
     "output_type": "execute_result"
    }
   ],
   "source": [
    "y_test1 = np.array(y_test['isDuplicate'])\n",
    "y_test1"
   ]
  },
  {
   "cell_type": "code",
   "execution_count": 437,
   "metadata": {},
   "outputs": [
    {
     "data": {
      "text/plain": [
       "array([0.30790541, 0.31410889, 0.60755908, ..., 0.60755908, 0.59206476,\n",
       "       0.42100503])"
      ]
     },
     "execution_count": 437,
     "metadata": {},
     "output_type": "execute_result"
    }
   ],
   "source": [
    "rfc_pred_prob1 = np.array(rfc_pred_prob)\n",
    "rfc_pred_prob1"
   ]
  },
  {
   "cell_type": "code",
   "execution_count": 438,
   "metadata": {},
   "outputs": [
    {
     "data": {
      "text/plain": [
       "0.7630777237365813"
      ]
     },
     "execution_count": 438,
     "metadata": {},
     "output_type": "execute_result"
    }
   ],
   "source": [
    "fpr, tpr, thresholds = metrics.roc_curve(y_test1, rfc_pred_prob1)\n",
    "metrics.auc(fpr, tpr)"
   ]
  },
  {
   "cell_type": "markdown",
   "metadata": {},
   "source": [
    "# Test Data"
   ]
  },
  {
   "cell_type": "code",
   "execution_count": 439,
   "metadata": {},
   "outputs": [],
   "source": [
    "test = pd.read_csv('/Users/jerry/Desktop/udemy courses/Kaggle数据分析/Avito Duplicate Ads Detection/test.csv')"
   ]
  },
  {
   "cell_type": "code",
   "execution_count": 440,
   "metadata": {},
   "outputs": [],
   "source": [
    "test1 = test.drop(['locationID_x.1','locationID_y.1','categoryID_x.1','categoryID_y.1'],axis = 1)"
   ]
  },
  {
   "cell_type": "code",
   "execution_count": 443,
   "metadata": {},
   "outputs": [],
   "source": [
    "test2 = test1.drop(['Unnamed: 0', 'title_x','title_y', 'description_x', 'description_y', 'images_array_x',\n",
    "                      'images_array_y', 'attrsJSON_x', 'attrsJSON_y', 'metroID_x', \n",
    "                      'metroID_y','itemID_x', 'itemID_y'], axis=1)"
   ]
  },
  {
   "cell_type": "code",
   "execution_count": 472,
   "metadata": {},
   "outputs": [
    {
     "data": {
      "text/html": [
       "<div>\n",
       "<style scoped>\n",
       "    .dataframe tbody tr th:only-of-type {\n",
       "        vertical-align: middle;\n",
       "    }\n",
       "\n",
       "    .dataframe tbody tr th {\n",
       "        vertical-align: top;\n",
       "    }\n",
       "\n",
       "    .dataframe thead th {\n",
       "        text-align: right;\n",
       "    }\n",
       "</style>\n",
       "<table border=\"1\" class=\"dataframe\">\n",
       "  <thead>\n",
       "    <tr style=\"text-align: right;\">\n",
       "      <th></th>\n",
       "      <th>id</th>\n",
       "      <th>itemID_1</th>\n",
       "      <th>itemID_2</th>\n",
       "      <th>categoryID_x</th>\n",
       "      <th>price_x</th>\n",
       "      <th>locationID_x</th>\n",
       "      <th>lat_x</th>\n",
       "      <th>lon_x</th>\n",
       "      <th>categoryID_y</th>\n",
       "      <th>price_y</th>\n",
       "      <th>locationID_y</th>\n",
       "      <th>lat_y</th>\n",
       "      <th>lon_y</th>\n",
       "      <th>regionID_x</th>\n",
       "      <th>regionID_y</th>\n",
       "      <th>parentCategoryID_x</th>\n",
       "      <th>parentCategoryID_y</th>\n",
       "    </tr>\n",
       "  </thead>\n",
       "  <tbody>\n",
       "    <tr>\n",
       "      <th>0</th>\n",
       "      <td>0</td>\n",
       "      <td>5</td>\n",
       "      <td>4670875</td>\n",
       "      <td>115</td>\n",
       "      <td>NaN</td>\n",
       "      <td>637640</td>\n",
       "      <td>55.760211</td>\n",
       "      <td>37.577211</td>\n",
       "      <td>115</td>\n",
       "      <td>NaN</td>\n",
       "      <td>637640</td>\n",
       "      <td>55.760211</td>\n",
       "      <td>37.577211</td>\n",
       "      <td>637640</td>\n",
       "      <td>637640</td>\n",
       "      <td>113</td>\n",
       "      <td>113</td>\n",
       "    </tr>\n",
       "    <tr>\n",
       "      <th>1</th>\n",
       "      <td>1</td>\n",
       "      <td>5</td>\n",
       "      <td>787210</td>\n",
       "      <td>115</td>\n",
       "      <td>NaN</td>\n",
       "      <td>637640</td>\n",
       "      <td>55.760211</td>\n",
       "      <td>37.577211</td>\n",
       "      <td>115</td>\n",
       "      <td>NaN</td>\n",
       "      <td>637640</td>\n",
       "      <td>55.760211</td>\n",
       "      <td>37.577211</td>\n",
       "      <td>637640</td>\n",
       "      <td>637640</td>\n",
       "      <td>113</td>\n",
       "      <td>113</td>\n",
       "    </tr>\n",
       "    <tr>\n",
       "      <th>2</th>\n",
       "      <td>2</td>\n",
       "      <td>6</td>\n",
       "      <td>1705280</td>\n",
       "      <td>10</td>\n",
       "      <td>NaN</td>\n",
       "      <td>637160</td>\n",
       "      <td>59.645846</td>\n",
       "      <td>33.513035</td>\n",
       "      <td>10</td>\n",
       "      <td>1500.0</td>\n",
       "      <td>637160</td>\n",
       "      <td>59.645846</td>\n",
       "      <td>33.513035</td>\n",
       "      <td>636370</td>\n",
       "      <td>636370</td>\n",
       "      <td>1</td>\n",
       "      <td>1</td>\n",
       "    </tr>\n",
       "    <tr>\n",
       "      <th>3</th>\n",
       "      <td>3</td>\n",
       "      <td>11</td>\n",
       "      <td>3020777</td>\n",
       "      <td>101</td>\n",
       "      <td>1300.0</td>\n",
       "      <td>650400</td>\n",
       "      <td>55.817608</td>\n",
       "      <td>49.097646</td>\n",
       "      <td>101</td>\n",
       "      <td>490.0</td>\n",
       "      <td>650400</td>\n",
       "      <td>55.817608</td>\n",
       "      <td>49.097646</td>\n",
       "      <td>650130</td>\n",
       "      <td>650130</td>\n",
       "      <td>6</td>\n",
       "      <td>6</td>\n",
       "    </tr>\n",
       "    <tr>\n",
       "      <th>4</th>\n",
       "      <td>4</td>\n",
       "      <td>23</td>\n",
       "      <td>5316130</td>\n",
       "      <td>27</td>\n",
       "      <td>15000.0</td>\n",
       "      <td>637640</td>\n",
       "      <td>55.827080</td>\n",
       "      <td>37.437604</td>\n",
       "      <td>27</td>\n",
       "      <td>15000.0</td>\n",
       "      <td>637640</td>\n",
       "      <td>55.827080</td>\n",
       "      <td>37.437604</td>\n",
       "      <td>637640</td>\n",
       "      <td>637640</td>\n",
       "      <td>5</td>\n",
       "      <td>5</td>\n",
       "    </tr>\n",
       "  </tbody>\n",
       "</table>\n",
       "</div>"
      ],
      "text/plain": [
       "   id  itemID_1  itemID_2  categoryID_x  price_x  locationID_x      lat_x  \\\n",
       "0   0         5   4670875           115      NaN        637640  55.760211   \n",
       "1   1         5    787210           115      NaN        637640  55.760211   \n",
       "2   2         6   1705280            10      NaN        637160  59.645846   \n",
       "3   3        11   3020777           101   1300.0        650400  55.817608   \n",
       "4   4        23   5316130            27  15000.0        637640  55.827080   \n",
       "\n",
       "       lon_x  categoryID_y  price_y  locationID_y      lat_y      lon_y  \\\n",
       "0  37.577211           115      NaN        637640  55.760211  37.577211   \n",
       "1  37.577211           115      NaN        637640  55.760211  37.577211   \n",
       "2  33.513035            10   1500.0        637160  59.645846  33.513035   \n",
       "3  49.097646           101    490.0        650400  55.817608  49.097646   \n",
       "4  37.437604            27  15000.0        637640  55.827080  37.437604   \n",
       "\n",
       "   regionID_x  regionID_y  parentCategoryID_x  parentCategoryID_y  \n",
       "0      637640      637640                 113                 113  \n",
       "1      637640      637640                 113                 113  \n",
       "2      636370      636370                   1                   1  \n",
       "3      650130      650130                   6                   6  \n",
       "4      637640      637640                   5                   5  "
      ]
     },
     "execution_count": 472,
     "metadata": {},
     "output_type": "execute_result"
    }
   ],
   "source": [
    "test2.head()"
   ]
  },
  {
   "cell_type": "code",
   "execution_count": 459,
   "metadata": {},
   "outputs": [],
   "source": [
    "#如何两个商品是一样的，那么price,location,lat,lon,category,region,parentcategory\n",
    "#所以相减 看一下结果是不是0\n",
    "\n",
    "\n",
    "price1 = abs(test2.price_x - test2.price_y)\n",
    "location1 = abs(test2.locationID_x - test2.locationID_y)\n",
    "lat1 = abs(test2.lat_x - test2.lat_y)\n",
    "lon1 = abs(test2.lon_x - test2.lon_y)\n",
    "category1 = abs(test2.categoryID_x - test2.categoryID_y)\n",
    "region1 = abs(test2.regionID_x - test2.regionID_y)\n",
    "parentCategory1 = abs(test2.parentCategoryID_x - test2.parentCategoryID_y)\n",
    "\n",
    "d1 = {'price': price1, 'location': location1, 'lat': lat1, 'lon': lon1, \n",
    "     'category': category1, 'region': region1, 'parentCategory': parentCategory1}\n",
    "X1 = pd.DataFrame(data=d1)"
   ]
  },
  {
   "cell_type": "code",
   "execution_count": 461,
   "metadata": {},
   "outputs": [
    {
     "data": {
      "text/html": [
       "<div>\n",
       "<style scoped>\n",
       "    .dataframe tbody tr th:only-of-type {\n",
       "        vertical-align: middle;\n",
       "    }\n",
       "\n",
       "    .dataframe tbody tr th {\n",
       "        vertical-align: top;\n",
       "    }\n",
       "\n",
       "    .dataframe thead th {\n",
       "        text-align: right;\n",
       "    }\n",
       "</style>\n",
       "<table border=\"1\" class=\"dataframe\">\n",
       "  <thead>\n",
       "    <tr style=\"text-align: right;\">\n",
       "      <th></th>\n",
       "      <th>price</th>\n",
       "      <th>location</th>\n",
       "      <th>lat</th>\n",
       "      <th>lon</th>\n",
       "      <th>category</th>\n",
       "      <th>region</th>\n",
       "      <th>parentCategory</th>\n",
       "    </tr>\n",
       "  </thead>\n",
       "  <tbody>\n",
       "    <tr>\n",
       "      <th>0</th>\n",
       "      <td>NaN</td>\n",
       "      <td>0</td>\n",
       "      <td>0.0</td>\n",
       "      <td>0.0</td>\n",
       "      <td>0</td>\n",
       "      <td>0</td>\n",
       "      <td>0</td>\n",
       "    </tr>\n",
       "    <tr>\n",
       "      <th>1</th>\n",
       "      <td>NaN</td>\n",
       "      <td>0</td>\n",
       "      <td>0.0</td>\n",
       "      <td>0.0</td>\n",
       "      <td>0</td>\n",
       "      <td>0</td>\n",
       "      <td>0</td>\n",
       "    </tr>\n",
       "    <tr>\n",
       "      <th>2</th>\n",
       "      <td>NaN</td>\n",
       "      <td>0</td>\n",
       "      <td>0.0</td>\n",
       "      <td>0.0</td>\n",
       "      <td>0</td>\n",
       "      <td>0</td>\n",
       "      <td>0</td>\n",
       "    </tr>\n",
       "    <tr>\n",
       "      <th>3</th>\n",
       "      <td>810.0</td>\n",
       "      <td>0</td>\n",
       "      <td>0.0</td>\n",
       "      <td>0.0</td>\n",
       "      <td>0</td>\n",
       "      <td>0</td>\n",
       "      <td>0</td>\n",
       "    </tr>\n",
       "    <tr>\n",
       "      <th>4</th>\n",
       "      <td>0.0</td>\n",
       "      <td>0</td>\n",
       "      <td>0.0</td>\n",
       "      <td>0.0</td>\n",
       "      <td>0</td>\n",
       "      <td>0</td>\n",
       "      <td>0</td>\n",
       "    </tr>\n",
       "  </tbody>\n",
       "</table>\n",
       "</div>"
      ],
      "text/plain": [
       "   price  location  lat  lon  category  region  parentCategory\n",
       "0    NaN         0  0.0  0.0         0       0               0\n",
       "1    NaN         0  0.0  0.0         0       0               0\n",
       "2    NaN         0  0.0  0.0         0       0               0\n",
       "3  810.0         0  0.0  0.0         0       0               0\n",
       "4    0.0         0  0.0  0.0         0       0               0"
      ]
     },
     "execution_count": 461,
     "metadata": {},
     "output_type": "execute_result"
    }
   ],
   "source": [
    "X1.head()"
   ]
  },
  {
   "cell_type": "code",
   "execution_count": 462,
   "metadata": {},
   "outputs": [
    {
     "data": {
      "text/plain": [
       "price             154247\n",
       "location               0\n",
       "lat                    0\n",
       "lon                    0\n",
       "category               0\n",
       "region                 0\n",
       "parentCategory         0\n",
       "dtype: int64"
      ]
     },
     "execution_count": 462,
     "metadata": {},
     "output_type": "execute_result"
    }
   ],
   "source": [
    "X1.isna().sum() #price有很多nan，需要"
   ]
  },
  {
   "cell_type": "code",
   "execution_count": 463,
   "metadata": {},
   "outputs": [
    {
     "data": {
      "text/plain": [
       "['price', 'location', 'lat', 'lon', 'category', 'region', 'parentCategory']"
      ]
     },
     "execution_count": 463,
     "metadata": {},
     "output_type": "execute_result"
    }
   ],
   "source": [
    "list(X1.columns)"
   ]
  },
  {
   "cell_type": "markdown",
   "metadata": {},
   "source": [
    "## Imputation"
   ]
  },
  {
   "cell_type": "code",
   "execution_count": 447,
   "metadata": {},
   "outputs": [],
   "source": [
    "from sklearn.impute import SimpleImputer\n",
    "import numpy as np"
   ]
  },
  {
   "cell_type": "code",
   "execution_count": 464,
   "metadata": {},
   "outputs": [],
   "source": [
    "imp_mean = SimpleImputer(missing_values=np.nan, strategy='mean')\n",
    "imp_mean.fit(X1)\n",
    "X2 = imp_mean.transform(X1)"
   ]
  },
  {
   "cell_type": "code",
   "execution_count": 466,
   "metadata": {},
   "outputs": [
    {
     "data": {
      "text/plain": [
       "(1044196, 7)"
      ]
     },
     "execution_count": 466,
     "metadata": {},
     "output_type": "execute_result"
    }
   ],
   "source": [
    "X2.shape"
   ]
  },
  {
   "cell_type": "code",
   "execution_count": 468,
   "metadata": {},
   "outputs": [],
   "source": [
    "X3 = pd.DataFrame(data = X2, columns=list(X1.columns))"
   ]
  },
  {
   "cell_type": "code",
   "execution_count": 469,
   "metadata": {},
   "outputs": [
    {
     "data": {
      "text/html": [
       "<div>\n",
       "<style scoped>\n",
       "    .dataframe tbody tr th:only-of-type {\n",
       "        vertical-align: middle;\n",
       "    }\n",
       "\n",
       "    .dataframe tbody tr th {\n",
       "        vertical-align: top;\n",
       "    }\n",
       "\n",
       "    .dataframe thead th {\n",
       "        text-align: right;\n",
       "    }\n",
       "</style>\n",
       "<table border=\"1\" class=\"dataframe\">\n",
       "  <thead>\n",
       "    <tr style=\"text-align: right;\">\n",
       "      <th></th>\n",
       "      <th>price</th>\n",
       "      <th>location</th>\n",
       "      <th>lat</th>\n",
       "      <th>lon</th>\n",
       "      <th>category</th>\n",
       "      <th>region</th>\n",
       "      <th>parentCategory</th>\n",
       "    </tr>\n",
       "  </thead>\n",
       "  <tbody>\n",
       "    <tr>\n",
       "      <th>0</th>\n",
       "      <td>3.406927e+07</td>\n",
       "      <td>0.0</td>\n",
       "      <td>0.0</td>\n",
       "      <td>0.0</td>\n",
       "      <td>0.0</td>\n",
       "      <td>0.0</td>\n",
       "      <td>0.0</td>\n",
       "    </tr>\n",
       "    <tr>\n",
       "      <th>1</th>\n",
       "      <td>3.406927e+07</td>\n",
       "      <td>0.0</td>\n",
       "      <td>0.0</td>\n",
       "      <td>0.0</td>\n",
       "      <td>0.0</td>\n",
       "      <td>0.0</td>\n",
       "      <td>0.0</td>\n",
       "    </tr>\n",
       "    <tr>\n",
       "      <th>2</th>\n",
       "      <td>3.406927e+07</td>\n",
       "      <td>0.0</td>\n",
       "      <td>0.0</td>\n",
       "      <td>0.0</td>\n",
       "      <td>0.0</td>\n",
       "      <td>0.0</td>\n",
       "      <td>0.0</td>\n",
       "    </tr>\n",
       "    <tr>\n",
       "      <th>3</th>\n",
       "      <td>8.100000e+02</td>\n",
       "      <td>0.0</td>\n",
       "      <td>0.0</td>\n",
       "      <td>0.0</td>\n",
       "      <td>0.0</td>\n",
       "      <td>0.0</td>\n",
       "      <td>0.0</td>\n",
       "    </tr>\n",
       "    <tr>\n",
       "      <th>4</th>\n",
       "      <td>0.000000e+00</td>\n",
       "      <td>0.0</td>\n",
       "      <td>0.0</td>\n",
       "      <td>0.0</td>\n",
       "      <td>0.0</td>\n",
       "      <td>0.0</td>\n",
       "      <td>0.0</td>\n",
       "    </tr>\n",
       "  </tbody>\n",
       "</table>\n",
       "</div>"
      ],
      "text/plain": [
       "          price  location  lat  lon  category  region  parentCategory\n",
       "0  3.406927e+07       0.0  0.0  0.0       0.0     0.0             0.0\n",
       "1  3.406927e+07       0.0  0.0  0.0       0.0     0.0             0.0\n",
       "2  3.406927e+07       0.0  0.0  0.0       0.0     0.0             0.0\n",
       "3  8.100000e+02       0.0  0.0  0.0       0.0     0.0             0.0\n",
       "4  0.000000e+00       0.0  0.0  0.0       0.0     0.0             0.0"
      ]
     },
     "execution_count": 469,
     "metadata": {},
     "output_type": "execute_result"
    }
   ],
   "source": [
    "X3.head()"
   ]
  },
  {
   "cell_type": "markdown",
   "metadata": {},
   "source": [
    "## Prediction"
   ]
  },
  {
   "cell_type": "code",
   "execution_count": 470,
   "metadata": {},
   "outputs": [],
   "source": [
    "pred_test = rfc.predict_proba(X3)[:,1]\n",
    "pred_test = np.array(pred_test)"
   ]
  },
  {
   "cell_type": "code",
   "execution_count": 471,
   "metadata": {},
   "outputs": [
    {
     "data": {
      "text/plain": [
       "array([0.        , 0.        , 0.        , ..., 0.45348892, 0.1702134 ,\n",
       "       0.45348892])"
      ]
     },
     "execution_count": 471,
     "metadata": {},
     "output_type": "execute_result"
    }
   ],
   "source": [
    "pred_test"
   ]
  },
  {
   "cell_type": "code",
   "execution_count": 473,
   "metadata": {},
   "outputs": [],
   "source": [
    "index = np.array(test2['id'].astype(np.int))"
   ]
  },
  {
   "cell_type": "code",
   "execution_count": 474,
   "metadata": {},
   "outputs": [
    {
     "data": {
      "text/plain": [
       "array([      0,       1,       2, ..., 1044193, 1044194, 1044195])"
      ]
     },
     "execution_count": 474,
     "metadata": {},
     "output_type": "execute_result"
    }
   ],
   "source": [
    "index"
   ]
  },
  {
   "cell_type": "code",
   "execution_count": 475,
   "metadata": {},
   "outputs": [],
   "source": [
    "pred_test1 = {'id':index,'probability':pred_test}"
   ]
  },
  {
   "cell_type": "code",
   "execution_count": 476,
   "metadata": {},
   "outputs": [],
   "source": [
    "pred_test2 = pd.DataFrame(pred_test1, columns =['id','probability'])"
   ]
  },
  {
   "cell_type": "code",
   "execution_count": 477,
   "metadata": {},
   "outputs": [
    {
     "name": "stdout",
     "output_type": "stream",
     "text": [
      "<class 'pandas.core.frame.DataFrame'>\n",
      "RangeIndex: 1044196 entries, 0 to 1044195\n",
      "Data columns (total 2 columns):\n",
      "id             1044196 non-null int64\n",
      "probability    1044196 non-null float64\n",
      "dtypes: float64(1), int64(1)\n",
      "memory usage: 15.9 MB\n"
     ]
    }
   ],
   "source": [
    "pred_test2.info()"
   ]
  },
  {
   "cell_type": "code",
   "execution_count": 478,
   "metadata": {},
   "outputs": [],
   "source": [
    "pred_test2.to_csv('/Users/jerry/Desktop/udemy courses/Kaggle数据分析/Avito Duplicate Ads Detection/prediction.csv',index=False)"
   ]
  }
 ],
 "metadata": {
  "kernelspec": {
   "display_name": "Python 3",
   "language": "python",
   "name": "python3"
  },
  "language_info": {
   "codemirror_mode": {
    "name": "ipython",
    "version": 3
   },
   "file_extension": ".py",
   "mimetype": "text/x-python",
   "name": "python",
   "nbconvert_exporter": "python",
   "pygments_lexer": "ipython3",
   "version": "3.7.3"
  }
 },
 "nbformat": 4,
 "nbformat_minor": 2
}
