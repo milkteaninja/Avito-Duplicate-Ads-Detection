{
 "cells": [
  {
   "cell_type": "code",
   "execution_count": 90,
   "metadata": {},
   "outputs": [],
   "source": [
    "import xgboost as xgb\n",
    "import pandas as pd\n",
    "import numpy as np"
   ]
  },
  {
   "cell_type": "code",
   "execution_count": 91,
   "metadata": {},
   "outputs": [],
   "source": [
    "train = pd.read_csv('/Users/jerry/Desktop/udemy courses/Kaggle数据分析/Avito Duplicate Ads Detection/train.csv')"
   ]
  },
  {
   "cell_type": "code",
   "execution_count": 92,
   "metadata": {},
   "outputs": [
    {
     "data": {
      "text/html": [
       "<div>\n",
       "<style scoped>\n",
       "    .dataframe tbody tr th:only-of-type {\n",
       "        vertical-align: middle;\n",
       "    }\n",
       "\n",
       "    .dataframe tbody tr th {\n",
       "        vertical-align: top;\n",
       "    }\n",
       "\n",
       "    .dataframe thead th {\n",
       "        text-align: right;\n",
       "    }\n",
       "</style>\n",
       "<table border=\"1\" class=\"dataframe\">\n",
       "  <thead>\n",
       "    <tr style=\"text-align: right;\">\n",
       "      <th></th>\n",
       "      <th>Unnamed: 0</th>\n",
       "      <th>itemID</th>\n",
       "      <th>categoryID</th>\n",
       "      <th>title</th>\n",
       "      <th>description</th>\n",
       "      <th>images_array</th>\n",
       "      <th>attrsJSON</th>\n",
       "      <th>price</th>\n",
       "      <th>locationID</th>\n",
       "      <th>metroID</th>\n",
       "      <th>lat</th>\n",
       "      <th>lon</th>\n",
       "      <th>isDuplicate</th>\n",
       "      <th>generationMethod</th>\n",
       "      <th>regionID</th>\n",
       "      <th>parentCategoryID</th>\n",
       "    </tr>\n",
       "  </thead>\n",
       "  <tbody>\n",
       "    <tr>\n",
       "      <th>0</th>\n",
       "      <td>0</td>\n",
       "      <td>1</td>\n",
       "      <td>81</td>\n",
       "      <td>Продам Камаз 6520</td>\n",
       "      <td>Продам Камаз 6520 20 тонн</td>\n",
       "      <td>1064094, 5252822, 6645873, 6960145, 9230265</td>\n",
       "      <td>{\"Вид техники\":\"Грузовики\"}</td>\n",
       "      <td>300000.0</td>\n",
       "      <td>648140</td>\n",
       "      <td>NaN</td>\n",
       "      <td>64.686946</td>\n",
       "      <td>30.815924</td>\n",
       "      <td>1</td>\n",
       "      <td>1</td>\n",
       "      <td>648070</td>\n",
       "      <td>1</td>\n",
       "    </tr>\n",
       "    <tr>\n",
       "      <th>1</th>\n",
       "      <td>1</td>\n",
       "      <td>3</td>\n",
       "      <td>14</td>\n",
       "      <td>Yamaha r6</td>\n",
       "      <td>Весь в тюнинге.</td>\n",
       "      <td>11919573, 14412228, 3204180, 6646877</td>\n",
       "      <td>{\"Вид техники\":\"Мотоциклы\", \"Вид мотоцикла\":\"С...</td>\n",
       "      <td>300000.0</td>\n",
       "      <td>639040</td>\n",
       "      <td>NaN</td>\n",
       "      <td>55.678037</td>\n",
       "      <td>37.256548</td>\n",
       "      <td>1</td>\n",
       "      <td>1</td>\n",
       "      <td>637680</td>\n",
       "      <td>1</td>\n",
       "    </tr>\n",
       "    <tr>\n",
       "      <th>2</th>\n",
       "      <td>2</td>\n",
       "      <td>4</td>\n",
       "      <td>84</td>\n",
       "      <td>iPhone 3gs 8gb</td>\n",
       "      <td>Телефон в хорошем состоянии, трещин и сколов н...</td>\n",
       "      <td>14384831, 6102021</td>\n",
       "      <td>{\"Вид телефона\":\"iPhone\"}</td>\n",
       "      <td>3500.0</td>\n",
       "      <td>640650</td>\n",
       "      <td>NaN</td>\n",
       "      <td>56.239398</td>\n",
       "      <td>43.460458</td>\n",
       "      <td>0</td>\n",
       "      <td>1</td>\n",
       "      <td>640310</td>\n",
       "      <td>6</td>\n",
       "    </tr>\n",
       "    <tr>\n",
       "      <th>3</th>\n",
       "      <td>3</td>\n",
       "      <td>7</td>\n",
       "      <td>84</td>\n",
       "      <td>Xiaomi Mi4 3гб RAM + 16гб ROM белый</td>\n",
       "      <td>Отличный подарок на новый год от \"китайской ap...</td>\n",
       "      <td>NaN</td>\n",
       "      <td>{\"Вид телефона\":\"Другие марки\"}</td>\n",
       "      <td>13500.0</td>\n",
       "      <td>662210</td>\n",
       "      <td>NaN</td>\n",
       "      <td>55.777170</td>\n",
       "      <td>37.586194</td>\n",
       "      <td>1</td>\n",
       "      <td>1</td>\n",
       "      <td>662000</td>\n",
       "      <td>6</td>\n",
       "    </tr>\n",
       "    <tr>\n",
       "      <th>4</th>\n",
       "      <td>4</td>\n",
       "      <td>8</td>\n",
       "      <td>39</td>\n",
       "      <td>Лыжные ботинки</td>\n",
       "      <td>Лыжные ботинки в хорошем состоянии, 34 размер</td>\n",
       "      <td>13718854, 4787310</td>\n",
       "      <td>{\"Вид товара\":\"Зимние виды спорта\"}</td>\n",
       "      <td>500.0</td>\n",
       "      <td>624360</td>\n",
       "      <td>NaN</td>\n",
       "      <td>55.777170</td>\n",
       "      <td>37.586194</td>\n",
       "      <td>1</td>\n",
       "      <td>1</td>\n",
       "      <td>624300</td>\n",
       "      <td>7</td>\n",
       "    </tr>\n",
       "  </tbody>\n",
       "</table>\n",
       "</div>"
      ],
      "text/plain": [
       "   Unnamed: 0  itemID  categoryID                                title  \\\n",
       "0           0       1          81                    Продам Камаз 6520   \n",
       "1           1       3          14                            Yamaha r6   \n",
       "2           2       4          84                       iPhone 3gs 8gb   \n",
       "3           3       7          84  Xiaomi Mi4 3гб RAM + 16гб ROM белый   \n",
       "4           4       8          39                       Лыжные ботинки   \n",
       "\n",
       "                                         description  \\\n",
       "0                          Продам Камаз 6520 20 тонн   \n",
       "1                                    Весь в тюнинге.   \n",
       "2  Телефон в хорошем состоянии, трещин и сколов н...   \n",
       "3  Отличный подарок на новый год от \"китайской ap...   \n",
       "4      Лыжные ботинки в хорошем состоянии, 34 размер   \n",
       "\n",
       "                                  images_array  \\\n",
       "0  1064094, 5252822, 6645873, 6960145, 9230265   \n",
       "1         11919573, 14412228, 3204180, 6646877   \n",
       "2                            14384831, 6102021   \n",
       "3                                          NaN   \n",
       "4                            13718854, 4787310   \n",
       "\n",
       "                                           attrsJSON     price  locationID  \\\n",
       "0                        {\"Вид техники\":\"Грузовики\"}  300000.0      648140   \n",
       "1  {\"Вид техники\":\"Мотоциклы\", \"Вид мотоцикла\":\"С...  300000.0      639040   \n",
       "2                          {\"Вид телефона\":\"iPhone\"}    3500.0      640650   \n",
       "3                    {\"Вид телефона\":\"Другие марки\"}   13500.0      662210   \n",
       "4                {\"Вид товара\":\"Зимние виды спорта\"}     500.0      624360   \n",
       "\n",
       "   metroID        lat        lon  isDuplicate  generationMethod  regionID  \\\n",
       "0      NaN  64.686946  30.815924            1                 1    648070   \n",
       "1      NaN  55.678037  37.256548            1                 1    637680   \n",
       "2      NaN  56.239398  43.460458            0                 1    640310   \n",
       "3      NaN  55.777170  37.586194            1                 1    662000   \n",
       "4      NaN  55.777170  37.586194            1                 1    624300   \n",
       "\n",
       "   parentCategoryID  \n",
       "0                 1  \n",
       "1                 1  \n",
       "2                 6  \n",
       "3                 6  \n",
       "4                 7  "
      ]
     },
     "execution_count": 92,
     "metadata": {},
     "output_type": "execute_result"
    }
   ],
   "source": [
    "train.head(5)"
   ]
  },
  {
   "cell_type": "code",
   "execution_count": 93,
   "metadata": {},
   "outputs": [
    {
     "name": "stdout",
     "output_type": "stream",
     "text": [
      "<class 'pandas.core.frame.DataFrame'>\n",
      "RangeIndex: 5982792 entries, 0 to 5982791\n",
      "Data columns (total 16 columns):\n",
      "Unnamed: 0          int64\n",
      "itemID              int64\n",
      "categoryID          int64\n",
      "title               object\n",
      "description         object\n",
      "images_array        object\n",
      "attrsJSON           object\n",
      "price               float64\n",
      "locationID          int64\n",
      "metroID             float64\n",
      "lat                 float64\n",
      "lon                 float64\n",
      "isDuplicate         int64\n",
      "generationMethod    int64\n",
      "regionID            int64\n",
      "parentCategoryID    int64\n",
      "dtypes: float64(4), int64(8), object(4)\n",
      "memory usage: 730.3+ MB\n"
     ]
    }
   ],
   "source": [
    "train.info()"
   ]
  },
  {
   "cell_type": "markdown",
   "metadata": {},
   "source": [
    "Classification Models: LDA, QDA, Logistic regression, SVM, Decision Trees, Random Forests, various forms of Boosting"
   ]
  },
  {
   "cell_type": "markdown",
   "metadata": {},
   "source": [
    "# 1 Tree based methods"
   ]
  },
  {
   "cell_type": "markdown",
   "metadata": {},
   "source": [
    "## 1.1 Decision Tree"
   ]
  },
  {
   "cell_type": "code",
   "execution_count": 94,
   "metadata": {},
   "outputs": [],
   "source": [
    "#metroID有太多 missing data\n",
    "train1 = train.drop(['Unnamed: 0', 'title', 'description', 'images_array', 'attrsJSON', 'generationMethod', 'metroID'], axis=1)"
   ]
  },
  {
   "cell_type": "code",
   "execution_count": 95,
   "metadata": {},
   "outputs": [],
   "source": [
    "train2 = train1.dropna()"
   ]
  },
  {
   "cell_type": "code",
   "execution_count": 96,
   "metadata": {},
   "outputs": [
    {
     "data": {
      "text/html": [
       "<div>\n",
       "<style scoped>\n",
       "    .dataframe tbody tr th:only-of-type {\n",
       "        vertical-align: middle;\n",
       "    }\n",
       "\n",
       "    .dataframe tbody tr th {\n",
       "        vertical-align: top;\n",
       "    }\n",
       "\n",
       "    .dataframe thead th {\n",
       "        text-align: right;\n",
       "    }\n",
       "</style>\n",
       "<table border=\"1\" class=\"dataframe\">\n",
       "  <thead>\n",
       "    <tr style=\"text-align: right;\">\n",
       "      <th></th>\n",
       "      <th>itemID</th>\n",
       "      <th>categoryID</th>\n",
       "      <th>price</th>\n",
       "      <th>locationID</th>\n",
       "      <th>lat</th>\n",
       "      <th>lon</th>\n",
       "      <th>isDuplicate</th>\n",
       "      <th>regionID</th>\n",
       "      <th>parentCategoryID</th>\n",
       "    </tr>\n",
       "  </thead>\n",
       "  <tbody>\n",
       "    <tr>\n",
       "      <th>0</th>\n",
       "      <td>1</td>\n",
       "      <td>81</td>\n",
       "      <td>300000.0</td>\n",
       "      <td>648140</td>\n",
       "      <td>64.686946</td>\n",
       "      <td>30.815924</td>\n",
       "      <td>1</td>\n",
       "      <td>648070</td>\n",
       "      <td>1</td>\n",
       "    </tr>\n",
       "    <tr>\n",
       "      <th>1</th>\n",
       "      <td>3</td>\n",
       "      <td>14</td>\n",
       "      <td>300000.0</td>\n",
       "      <td>639040</td>\n",
       "      <td>55.678037</td>\n",
       "      <td>37.256548</td>\n",
       "      <td>1</td>\n",
       "      <td>637680</td>\n",
       "      <td>1</td>\n",
       "    </tr>\n",
       "    <tr>\n",
       "      <th>2</th>\n",
       "      <td>4</td>\n",
       "      <td>84</td>\n",
       "      <td>3500.0</td>\n",
       "      <td>640650</td>\n",
       "      <td>56.239398</td>\n",
       "      <td>43.460458</td>\n",
       "      <td>0</td>\n",
       "      <td>640310</td>\n",
       "      <td>6</td>\n",
       "    </tr>\n",
       "    <tr>\n",
       "      <th>3</th>\n",
       "      <td>7</td>\n",
       "      <td>84</td>\n",
       "      <td>13500.0</td>\n",
       "      <td>662210</td>\n",
       "      <td>55.777170</td>\n",
       "      <td>37.586194</td>\n",
       "      <td>1</td>\n",
       "      <td>662000</td>\n",
       "      <td>6</td>\n",
       "    </tr>\n",
       "    <tr>\n",
       "      <th>4</th>\n",
       "      <td>8</td>\n",
       "      <td>39</td>\n",
       "      <td>500.0</td>\n",
       "      <td>624360</td>\n",
       "      <td>55.777170</td>\n",
       "      <td>37.586194</td>\n",
       "      <td>1</td>\n",
       "      <td>624300</td>\n",
       "      <td>7</td>\n",
       "    </tr>\n",
       "  </tbody>\n",
       "</table>\n",
       "</div>"
      ],
      "text/plain": [
       "   itemID  categoryID     price  locationID        lat        lon  \\\n",
       "0       1          81  300000.0      648140  64.686946  30.815924   \n",
       "1       3          14  300000.0      639040  55.678037  37.256548   \n",
       "2       4          84    3500.0      640650  56.239398  43.460458   \n",
       "3       7          84   13500.0      662210  55.777170  37.586194   \n",
       "4       8          39     500.0      624360  55.777170  37.586194   \n",
       "\n",
       "   isDuplicate  regionID  parentCategoryID  \n",
       "0            1    648070                 1  \n",
       "1            1    637680                 1  \n",
       "2            0    640310                 6  \n",
       "3            1    662000                 6  \n",
       "4            1    624300                 7  "
      ]
     },
     "execution_count": 96,
     "metadata": {},
     "output_type": "execute_result"
    }
   ],
   "source": [
    "train2.head()"
   ]
  },
  {
   "cell_type": "code",
   "execution_count": 97,
   "metadata": {},
   "outputs": [],
   "source": [
    "y = train2[['isDuplicate']]"
   ]
  },
  {
   "cell_type": "code",
   "execution_count": 98,
   "metadata": {},
   "outputs": [],
   "source": [
    "X = train2.drop('isDuplicate',axis=1)"
   ]
  },
  {
   "cell_type": "code",
   "execution_count": 99,
   "metadata": {},
   "outputs": [],
   "source": [
    "from sklearn.model_selection import train_test_split"
   ]
  },
  {
   "cell_type": "code",
   "execution_count": 100,
   "metadata": {},
   "outputs": [],
   "source": [
    "X_train, X_test, y_train, y_test = train_test_split(X, y, test_size=0.33)"
   ]
  },
  {
   "cell_type": "code",
   "execution_count": 101,
   "metadata": {},
   "outputs": [],
   "source": [
    "from sklearn.tree import DecisionTreeClassifier"
   ]
  },
  {
   "cell_type": "code",
   "execution_count": 102,
   "metadata": {},
   "outputs": [],
   "source": [
    "dtree = DecisionTreeClassifier()"
   ]
  },
  {
   "cell_type": "code",
   "execution_count": 103,
   "metadata": {},
   "outputs": [
    {
     "data": {
      "text/plain": [
       "DecisionTreeClassifier(class_weight=None, criterion='gini', max_depth=None,\n",
       "            max_features=None, max_leaf_nodes=None,\n",
       "            min_impurity_decrease=0.0, min_impurity_split=None,\n",
       "            min_samples_leaf=1, min_samples_split=2,\n",
       "            min_weight_fraction_leaf=0.0, presort=False, random_state=None,\n",
       "            splitter='best')"
      ]
     },
     "execution_count": 103,
     "metadata": {},
     "output_type": "execute_result"
    }
   ],
   "source": [
    "dtree.fit(X_train,y_train)"
   ]
  },
  {
   "cell_type": "code",
   "execution_count": 104,
   "metadata": {},
   "outputs": [],
   "source": [
    "prediction = dtree.predict(X_test)"
   ]
  },
  {
   "cell_type": "code",
   "execution_count": 106,
   "metadata": {},
   "outputs": [
    {
     "data": {
      "text/plain": [
       "array([0, 1, 0, ..., 1, 0, 0])"
      ]
     },
     "execution_count": 106,
     "metadata": {},
     "output_type": "execute_result"
    }
   ],
   "source": [
    "prediction"
   ]
  },
  {
   "cell_type": "code",
   "execution_count": 107,
   "metadata": {},
   "outputs": [],
   "source": [
    "from sklearn.metrics import classification_report, confusion_matrix"
   ]
  },
  {
   "cell_type": "code",
   "execution_count": 108,
   "metadata": {},
   "outputs": [
    {
     "name": "stdout",
     "output_type": "stream",
     "text": [
      "[[898187 151292]\n",
      " [220086 517276]]\n"
     ]
    }
   ],
   "source": [
    "print(confusion_matrix(y_test, prediction))"
   ]
  },
  {
   "cell_type": "code",
   "execution_count": 109,
   "metadata": {},
   "outputs": [
    {
     "name": "stdout",
     "output_type": "stream",
     "text": [
      "              precision    recall  f1-score   support\n",
      "\n",
      "           0       0.80      0.86      0.83   1049479\n",
      "           1       0.77      0.70      0.74    737362\n",
      "\n",
      "   micro avg       0.79      0.79      0.79   1786841\n",
      "   macro avg       0.79      0.78      0.78   1786841\n",
      "weighted avg       0.79      0.79      0.79   1786841\n",
      "\n"
     ]
    }
   ],
   "source": [
    "print(classification_report(y_test, prediction))"
   ]
  },
  {
   "cell_type": "markdown",
   "metadata": {},
   "source": [
    "We have a pretty good prediction already for the decision tree with high precision.\n"
   ]
  },
  {
   "cell_type": "markdown",
   "metadata": {},
   "source": [
    "## 1.2 Random Forest"
   ]
  },
  {
   "cell_type": "code",
   "execution_count": 110,
   "metadata": {},
   "outputs": [],
   "source": [
    "from sklearn.ensemble import RandomForestClassifier"
   ]
  },
  {
   "cell_type": "code",
   "execution_count": 111,
   "metadata": {},
   "outputs": [],
   "source": [
    "rfc = RandomForestClassifier(n_estimators = 30)"
   ]
  },
  {
   "cell_type": "code",
   "execution_count": 112,
   "metadata": {},
   "outputs": [
    {
     "name": "stderr",
     "output_type": "stream",
     "text": [
      "/Users/jerry/anaconda3/lib/python3.7/site-packages/ipykernel_launcher.py:1: DataConversionWarning: A column-vector y was passed when a 1d array was expected. Please change the shape of y to (n_samples,), for example using ravel().\n",
      "  \"\"\"Entry point for launching an IPython kernel.\n"
     ]
    },
    {
     "data": {
      "text/plain": [
       "RandomForestClassifier(bootstrap=True, class_weight=None, criterion='gini',\n",
       "            max_depth=None, max_features='auto', max_leaf_nodes=None,\n",
       "            min_impurity_decrease=0.0, min_impurity_split=None,\n",
       "            min_samples_leaf=1, min_samples_split=2,\n",
       "            min_weight_fraction_leaf=0.0, n_estimators=30, n_jobs=None,\n",
       "            oob_score=False, random_state=None, verbose=0,\n",
       "            warm_start=False)"
      ]
     },
     "execution_count": 112,
     "metadata": {},
     "output_type": "execute_result"
    }
   ],
   "source": [
    "rfc.fit(X_train, y_train)"
   ]
  },
  {
   "cell_type": "code",
   "execution_count": 113,
   "metadata": {},
   "outputs": [],
   "source": [
    "rfc_pred = rfc.predict(X_test)"
   ]
  },
  {
   "cell_type": "code",
   "execution_count": 114,
   "metadata": {},
   "outputs": [
    {
     "name": "stdout",
     "output_type": "stream",
     "text": [
      "[[899771 149708]\n",
      " [189189 548173]]\n"
     ]
    }
   ],
   "source": [
    "print(confusion_matrix(y_test, rfc_pred))"
   ]
  },
  {
   "cell_type": "code",
   "execution_count": 115,
   "metadata": {},
   "outputs": [
    {
     "name": "stdout",
     "output_type": "stream",
     "text": [
      "              precision    recall  f1-score   support\n",
      "\n",
      "           0       0.83      0.86      0.84   1049479\n",
      "           1       0.79      0.74      0.76    737362\n",
      "\n",
      "   micro avg       0.81      0.81      0.81   1786841\n",
      "   macro avg       0.81      0.80      0.80   1786841\n",
      "weighted avg       0.81      0.81      0.81   1786841\n",
      "\n"
     ]
    }
   ],
   "source": [
    "print(classification_report(y_test, rfc_pred))"
   ]
  },
  {
   "cell_type": "markdown",
   "metadata": {},
   "source": [
    "There is no huge improvement over the simple decision tree method. "
   ]
  },
  {
   "cell_type": "code",
   "execution_count": null,
   "metadata": {},
   "outputs": [],
   "source": []
  }
 ],
 "metadata": {
  "kernelspec": {
   "display_name": "Python 3",
   "language": "python",
   "name": "python3"
  },
  "language_info": {
   "codemirror_mode": {
    "name": "ipython",
    "version": 3
   },
   "file_extension": ".py",
   "mimetype": "text/x-python",
   "name": "python",
   "nbconvert_exporter": "python",
   "pygments_lexer": "ipython3",
   "version": "3.7.3"
  }
 },
 "nbformat": 4,
 "nbformat_minor": 2
}
