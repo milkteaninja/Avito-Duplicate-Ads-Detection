{
 "cells": [
  {
   "cell_type": "code",
   "execution_count": 165,
   "metadata": {},
   "outputs": [],
   "source": [
    "import pandas as pd\n",
    "import numpy as np\n",
    "import xgboost as xgb"
   ]
  },
  {
   "cell_type": "markdown",
   "metadata": {},
   "source": [
    "# Training Data"
   ]
  },
  {
   "cell_type": "code",
   "execution_count": 166,
   "metadata": {},
   "outputs": [],
   "source": [
    "iteminfo_train = pd.read_csv('/Users/jerry/Desktop/udemy courses/Kaggle数据分析/Avito Duplicate Ads Detection/ItemInfo_train.csv')\n",
    "itempairs_train = pd.read_csv('/Users/jerry/Desktop/udemy courses/Kaggle数据分析/Avito Duplicate Ads Detection/ItemPairs_train.csv')\n",
    "location = pd.read_csv('/Users/jerry/Desktop/udemy courses/Kaggle数据分析/Avito Duplicate Ads Detection/Location.csv')\n",
    "category = pd.read_csv('/Users/jerry/Desktop/udemy courses/Kaggle数据分析/Avito Duplicate Ads Detection/Category.csv')"
   ]
  },
  {
   "cell_type": "code",
   "execution_count": 180,
   "metadata": {},
   "outputs": [
    {
     "data": {
      "text/html": [
       "<div>\n",
       "<style scoped>\n",
       "    .dataframe tbody tr th:only-of-type {\n",
       "        vertical-align: middle;\n",
       "    }\n",
       "\n",
       "    .dataframe tbody tr th {\n",
       "        vertical-align: top;\n",
       "    }\n",
       "\n",
       "    .dataframe thead th {\n",
       "        text-align: right;\n",
       "    }\n",
       "</style>\n",
       "<table border=\"1\" class=\"dataframe\">\n",
       "  <thead>\n",
       "    <tr style=\"text-align: right;\">\n",
       "      <th></th>\n",
       "      <th>locationID</th>\n",
       "      <th>regionID</th>\n",
       "    </tr>\n",
       "  </thead>\n",
       "  <tbody>\n",
       "    <tr>\n",
       "      <th>0</th>\n",
       "      <td>621551</td>\n",
       "      <td>621550</td>\n",
       "    </tr>\n",
       "    <tr>\n",
       "      <th>1</th>\n",
       "      <td>621552</td>\n",
       "      <td>621550</td>\n",
       "    </tr>\n",
       "    <tr>\n",
       "      <th>2</th>\n",
       "      <td>621553</td>\n",
       "      <td>621550</td>\n",
       "    </tr>\n",
       "    <tr>\n",
       "      <th>3</th>\n",
       "      <td>621554</td>\n",
       "      <td>621550</td>\n",
       "    </tr>\n",
       "    <tr>\n",
       "      <th>4</th>\n",
       "      <td>621555</td>\n",
       "      <td>621550</td>\n",
       "    </tr>\n",
       "  </tbody>\n",
       "</table>\n",
       "</div>"
      ],
      "text/plain": [
       "   locationID  regionID\n",
       "0      621551    621550\n",
       "1      621552    621550\n",
       "2      621553    621550\n",
       "3      621554    621550\n",
       "4      621555    621550"
      ]
     },
     "execution_count": 180,
     "metadata": {},
     "output_type": "execute_result"
    }
   ],
   "source": [
    "location.head()"
   ]
  },
  {
   "cell_type": "code",
   "execution_count": 182,
   "metadata": {},
   "outputs": [
    {
     "data": {
      "text/html": [
       "<div>\n",
       "<style scoped>\n",
       "    .dataframe tbody tr th:only-of-type {\n",
       "        vertical-align: middle;\n",
       "    }\n",
       "\n",
       "    .dataframe tbody tr th {\n",
       "        vertical-align: top;\n",
       "    }\n",
       "\n",
       "    .dataframe thead th {\n",
       "        text-align: right;\n",
       "    }\n",
       "</style>\n",
       "<table border=\"1\" class=\"dataframe\">\n",
       "  <thead>\n",
       "    <tr style=\"text-align: right;\">\n",
       "      <th></th>\n",
       "      <th>categoryID</th>\n",
       "      <th>parentCategoryID</th>\n",
       "    </tr>\n",
       "  </thead>\n",
       "  <tbody>\n",
       "    <tr>\n",
       "      <th>0</th>\n",
       "      <td>9</td>\n",
       "      <td>1</td>\n",
       "    </tr>\n",
       "    <tr>\n",
       "      <th>1</th>\n",
       "      <td>10</td>\n",
       "      <td>1</td>\n",
       "    </tr>\n",
       "    <tr>\n",
       "      <th>2</th>\n",
       "      <td>11</td>\n",
       "      <td>1</td>\n",
       "    </tr>\n",
       "    <tr>\n",
       "      <th>3</th>\n",
       "      <td>14</td>\n",
       "      <td>1</td>\n",
       "    </tr>\n",
       "    <tr>\n",
       "      <th>4</th>\n",
       "      <td>19</td>\n",
       "      <td>2</td>\n",
       "    </tr>\n",
       "  </tbody>\n",
       "</table>\n",
       "</div>"
      ],
      "text/plain": [
       "   categoryID  parentCategoryID\n",
       "0           9                 1\n",
       "1          10                 1\n",
       "2          11                 1\n",
       "3          14                 1\n",
       "4          19                 2"
      ]
     },
     "execution_count": 182,
     "metadata": {},
     "output_type": "execute_result"
    }
   ],
   "source": [
    "category.head()"
   ]
  },
  {
   "cell_type": "code",
   "execution_count": 179,
   "metadata": {},
   "outputs": [
    {
     "name": "stdout",
     "output_type": "stream",
     "text": [
      "<class 'pandas.core.frame.DataFrame'>\n",
      "RangeIndex: 3344613 entries, 0 to 3344612\n",
      "Data columns (total 11 columns):\n",
      "itemID          int64\n",
      "categoryID      int64\n",
      "title           object\n",
      "description     object\n",
      "images_array    object\n",
      "attrsJSON       object\n",
      "price           float64\n",
      "locationID      int64\n",
      "metroID         float64\n",
      "lat             float64\n",
      "lon             float64\n",
      "dtypes: float64(4), int64(3), object(4)\n",
      "memory usage: 280.7+ MB\n"
     ]
    }
   ],
   "source": [
    "iteminfo_train.info()"
   ]
  },
  {
   "cell_type": "code",
   "execution_count": 167,
   "metadata": {},
   "outputs": [],
   "source": [
    "#用itemID 把 itempairs_train 合并到 iteminfo_train\n",
    "itempairs_train1 = itempairs_train.merge(iteminfo_train,left_on='itemID_1', right_on='itemID', how='left')\n",
    "itempairs_train2 = itempairs_train1.merge(iteminfo_train,left_on='itemID_2', right_on='itemID', how='left')"
   ]
  },
  {
   "cell_type": "code",
   "execution_count": 183,
   "metadata": {},
   "outputs": [
    {
     "name": "stdout",
     "output_type": "stream",
     "text": [
      "<class 'pandas.core.frame.DataFrame'>\n",
      "Int64Index: 2991396 entries, 0 to 2991395\n",
      "Data columns (total 26 columns):\n",
      "itemID_1            int64\n",
      "itemID_2            int64\n",
      "isDuplicate         int64\n",
      "generationMethod    int64\n",
      "itemID_x            int64\n",
      "categoryID_x        int64\n",
      "title_x             object\n",
      "description_x       object\n",
      "images_array_x      object\n",
      "attrsJSON_x         object\n",
      "price_x             float64\n",
      "locationID_x        int64\n",
      "metroID_x           float64\n",
      "lat_x               float64\n",
      "lon_x               float64\n",
      "itemID_y            int64\n",
      "categoryID_y        int64\n",
      "title_y             object\n",
      "description_y       object\n",
      "images_array_y      object\n",
      "attrsJSON_y         object\n",
      "price_y             float64\n",
      "locationID_y        int64\n",
      "metroID_y           float64\n",
      "lat_y               float64\n",
      "lon_y               float64\n",
      "dtypes: float64(8), int64(10), object(8)\n",
      "memory usage: 616.2+ MB\n"
     ]
    }
   ],
   "source": [
    "itempairs_train2.info()"
   ]
  },
  {
   "cell_type": "code",
   "execution_count": 169,
   "metadata": {},
   "outputs": [],
   "source": [
    "itempairs_train3 = itempairs_train2.merge(location,left_on='locationID_x', right_on='locationID', how='left')\n",
    "itempairs_train4 = itempairs_train3.merge(location,left_on='locationID_y', right_on='locationID', how='left')\n",
    "\n",
    "itempairs_train5 = itempairs_train4.merge(category,left_on='categoryID_x', right_on='categoryID', how='left')\n",
    "train = itempairs_train5.merge(category,left_on='categoryID_y', right_on='categoryID', how='left')"
   ]
  },
  {
   "cell_type": "code",
   "execution_count": 170,
   "metadata": {
    "scrolled": true
   },
   "outputs": [
    {
     "name": "stdout",
     "output_type": "stream",
     "text": [
      "<class 'pandas.core.frame.DataFrame'>\n",
      "Int64Index: 2991396 entries, 0 to 2991395\n",
      "Data columns (total 34 columns):\n",
      "itemID_1              int64\n",
      "itemID_2              int64\n",
      "isDuplicate           int64\n",
      "generationMethod      int64\n",
      "itemID_x              int64\n",
      "categoryID_x          int64\n",
      "title_x               object\n",
      "description_x         object\n",
      "images_array_x        object\n",
      "attrsJSON_x           object\n",
      "price_x               float64\n",
      "locationID_x          int64\n",
      "metroID_x             float64\n",
      "lat_x                 float64\n",
      "lon_x                 float64\n",
      "itemID_y              int64\n",
      "categoryID_y          int64\n",
      "title_y               object\n",
      "description_y         object\n",
      "images_array_y        object\n",
      "attrsJSON_y           object\n",
      "price_y               float64\n",
      "locationID_y          int64\n",
      "metroID_y             float64\n",
      "lat_y                 float64\n",
      "lon_y                 float64\n",
      "locationID_x          int64\n",
      "regionID_x            int64\n",
      "locationID_y          int64\n",
      "regionID_y            int64\n",
      "categoryID_x          int64\n",
      "parentCategoryID_x    int64\n",
      "categoryID_y          int64\n",
      "parentCategoryID_y    int64\n",
      "dtypes: float64(8), int64(18), object(8)\n",
      "memory usage: 798.8+ MB\n"
     ]
    }
   ],
   "source": [
    "train.info()"
   ]
  },
  {
   "cell_type": "markdown",
   "metadata": {},
   "source": [
    "train.columns"
   ]
  },
  {
   "cell_type": "code",
   "execution_count": 171,
   "metadata": {},
   "outputs": [],
   "source": [
    "train.to_csv('/Users/jerry/Desktop/udemy courses/Kaggle数据分析/Avito Duplicate Ads Detection/train.csv')"
   ]
  },
  {
   "cell_type": "markdown",
   "metadata": {},
   "source": [
    "# Testing Data"
   ]
  },
  {
   "cell_type": "code",
   "execution_count": 172,
   "metadata": {},
   "outputs": [],
   "source": [
    "itempairs_test = pd.read_csv('/Users/jerry/Desktop/udemy courses/Kaggle数据分析/Avito Duplicate Ads Detection/ItemPairs_test.csv')"
   ]
  },
  {
   "cell_type": "code",
   "execution_count": 173,
   "metadata": {},
   "outputs": [],
   "source": [
    "iteminfo_test = pd.read_csv('/Users/jerry/Desktop/udemy courses/Kaggle数据分析/Avito Duplicate Ads Detection/ItemInfo_test.csv')"
   ]
  },
  {
   "cell_type": "code",
   "execution_count": 174,
   "metadata": {},
   "outputs": [],
   "source": [
    "#用itemID 把 itempairs_train 合并到 iteminfo_train\n",
    "\n",
    "itempairs_test1 = itempairs_test.merge(iteminfo_test,left_on='itemID_1', right_on='itemID', how='left')\n",
    "itempairs_test2 = itempairs_test1.merge(iteminfo_test,left_on='itemID_2', right_on='itemID', how='left')"
   ]
  },
  {
   "cell_type": "code",
   "execution_count": 175,
   "metadata": {},
   "outputs": [],
   "source": [
    "#把location和category合并过来\n",
    "\n",
    "itempairs_test3 = itempairs_test2.merge(location,left_on='locationID_x', right_on='locationID', how='left')\n",
    "itempairs_test4 = itempairs_test3.merge(location,left_on='locationID_y', right_on='locationID', how='left')\n",
    "\n",
    "itempairs_test5 = itempairs_test4.merge(category,left_on='categoryID_x', right_on='categoryID', how='left')\n",
    "test = itempairs_test5.merge(category,left_on='categoryID_y', right_on='categoryID', how='left')"
   ]
  },
  {
   "cell_type": "code",
   "execution_count": 176,
   "metadata": {},
   "outputs": [
    {
     "name": "stdout",
     "output_type": "stream",
     "text": [
      "<class 'pandas.core.frame.DataFrame'>\n",
      "Int64Index: 1044196 entries, 0 to 1044195\n",
      "Data columns (total 33 columns):\n",
      "id                    1044196 non-null int64\n",
      "itemID_1              1044196 non-null int64\n",
      "itemID_2              1044196 non-null int64\n",
      "itemID_x              1044196 non-null int64\n",
      "categoryID_x          1044196 non-null int64\n",
      "title_x               1044194 non-null object\n",
      "description_x         1044171 non-null object\n",
      "images_array_x        926463 non-null object\n",
      "attrsJSON_x           1005706 non-null object\n",
      "price_x               914825 non-null float64\n",
      "locationID_x          1044196 non-null int64\n",
      "metroID_x             303388 non-null float64\n",
      "lat_x                 1044196 non-null float64\n",
      "lon_x                 1044196 non-null float64\n",
      "itemID_y              1044196 non-null int64\n",
      "categoryID_y          1044196 non-null int64\n",
      "title_y               1044196 non-null object\n",
      "description_y         1044172 non-null object\n",
      "images_array_y        926222 non-null object\n",
      "attrsJSON_y           1005706 non-null object\n",
      "price_y               914496 non-null float64\n",
      "locationID_y          1044196 non-null int64\n",
      "metroID_y             304081 non-null float64\n",
      "lat_y                 1044196 non-null float64\n",
      "lon_y                 1044196 non-null float64\n",
      "locationID_x          1044196 non-null int64\n",
      "regionID_x            1044196 non-null int64\n",
      "locationID_y          1044196 non-null int64\n",
      "regionID_y            1044196 non-null int64\n",
      "categoryID_x          1044196 non-null int64\n",
      "parentCategoryID_x    1044196 non-null int64\n",
      "categoryID_y          1044196 non-null int64\n",
      "parentCategoryID_y    1044196 non-null int64\n",
      "dtypes: float64(8), int64(17), object(8)\n",
      "memory usage: 270.9+ MB\n"
     ]
    }
   ],
   "source": [
    "test.info()"
   ]
  },
  {
   "cell_type": "code",
   "execution_count": 177,
   "metadata": {},
   "outputs": [],
   "source": [
    "test.to_csv('/Users/jerry/Desktop/udemy courses/Kaggle数据分析/Avito Duplicate Ads Detection/test.csv')"
   ]
  }
 ],
 "metadata": {
  "kernelspec": {
   "display_name": "Python 3",
   "language": "python",
   "name": "python3"
  },
  "language_info": {
   "codemirror_mode": {
    "name": "ipython",
    "version": 3
   },
   "file_extension": ".py",
   "mimetype": "text/x-python",
   "name": "python",
   "nbconvert_exporter": "python",
   "pygments_lexer": "ipython3",
   "version": "3.7.3"
  }
 },
 "nbformat": 4,
 "nbformat_minor": 2
}
