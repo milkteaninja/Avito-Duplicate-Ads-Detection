{
 "cells": [
  {
   "cell_type": "code",
   "execution_count": 1,
   "metadata": {},
   "outputs": [
    {
     "name": "stderr",
     "output_type": "stream",
     "text": [
      "/Users/jerry/anaconda3/lib/python3.7/site-packages/dask/config.py:168: YAMLLoadWarning: calling yaml.load() without Loader=... is deprecated, as the default Loader is unsafe. Please read https://msg.pyyaml.org/load for full details.\n",
      "  data = yaml.load(f.read()) or {}\n",
      "/Users/jerry/anaconda3/lib/python3.7/site-packages/distributed/config.py:20: YAMLLoadWarning: calling yaml.load() without Loader=... is deprecated, as the default Loader is unsafe. Please read https://msg.pyyaml.org/load for full details.\n",
      "  defaults = yaml.load(f)\n"
     ]
    }
   ],
   "source": [
    "import xgboost as xgb\n",
    "import pandas as pd\n",
    "import numpy as np"
   ]
  },
  {
   "cell_type": "code",
   "execution_count": 2,
   "metadata": {},
   "outputs": [],
   "source": [
    "train = pd.read_csv('/Users/jerry/Desktop/udemy courses/Kaggle数据分析/Avito Duplicate Ads Detection/train.csv')"
   ]
  },
  {
   "cell_type": "code",
   "execution_count": 5,
   "metadata": {},
   "outputs": [
    {
     "data": {
      "text/html": [
       "<div>\n",
       "<style scoped>\n",
       "    .dataframe tbody tr th:only-of-type {\n",
       "        vertical-align: middle;\n",
       "    }\n",
       "\n",
       "    .dataframe tbody tr th {\n",
       "        vertical-align: top;\n",
       "    }\n",
       "\n",
       "    .dataframe thead th {\n",
       "        text-align: right;\n",
       "    }\n",
       "</style>\n",
       "<table border=\"1\" class=\"dataframe\">\n",
       "  <thead>\n",
       "    <tr style=\"text-align: right;\">\n",
       "      <th></th>\n",
       "      <th>Unnamed: 0</th>\n",
       "      <th>itemID</th>\n",
       "      <th>categoryID</th>\n",
       "      <th>title</th>\n",
       "      <th>description</th>\n",
       "      <th>images_array</th>\n",
       "      <th>attrsJSON</th>\n",
       "      <th>price</th>\n",
       "      <th>locationID</th>\n",
       "      <th>metroID</th>\n",
       "      <th>lat</th>\n",
       "      <th>lon</th>\n",
       "      <th>generationMethod</th>\n",
       "      <th>isDuplicate</th>\n",
       "      <th>regionID</th>\n",
       "      <th>parentCategoryID</th>\n",
       "    </tr>\n",
       "  </thead>\n",
       "  <tbody>\n",
       "    <tr>\n",
       "      <th>0</th>\n",
       "      <td>0</td>\n",
       "      <td>1</td>\n",
       "      <td>81</td>\n",
       "      <td>Продам Камаз 6520</td>\n",
       "      <td>Продам Камаз 6520 20 тонн</td>\n",
       "      <td>1064094, 5252822, 6645873, 6960145, 9230265</td>\n",
       "      <td>{\"Вид техники\":\"Грузовики\"}</td>\n",
       "      <td>300000.0</td>\n",
       "      <td>648140</td>\n",
       "      <td>NaN</td>\n",
       "      <td>64.686946</td>\n",
       "      <td>30.815924</td>\n",
       "      <td>1.0</td>\n",
       "      <td>1.0</td>\n",
       "      <td>648070</td>\n",
       "      <td>1</td>\n",
       "    </tr>\n",
       "    <tr>\n",
       "      <th>1</th>\n",
       "      <td>1</td>\n",
       "      <td>1</td>\n",
       "      <td>81</td>\n",
       "      <td>Продам Камаз 6520</td>\n",
       "      <td>Продам Камаз 6520 20 тонн</td>\n",
       "      <td>1064094, 5252822, 6645873, 6960145, 9230265</td>\n",
       "      <td>{\"Вид техники\":\"Грузовики\"}</td>\n",
       "      <td>300000.0</td>\n",
       "      <td>648140</td>\n",
       "      <td>NaN</td>\n",
       "      <td>64.686946</td>\n",
       "      <td>30.815924</td>\n",
       "      <td>1.0</td>\n",
       "      <td>1.0</td>\n",
       "      <td>648070</td>\n",
       "      <td>1</td>\n",
       "    </tr>\n",
       "    <tr>\n",
       "      <th>2</th>\n",
       "      <td>2</td>\n",
       "      <td>3</td>\n",
       "      <td>14</td>\n",
       "      <td>Yamaha r6</td>\n",
       "      <td>Весь в тюнинге.</td>\n",
       "      <td>11919573, 14412228, 3204180, 6646877</td>\n",
       "      <td>{\"Вид техники\":\"Мотоциклы\", \"Вид мотоцикла\":\"С...</td>\n",
       "      <td>300000.0</td>\n",
       "      <td>639040</td>\n",
       "      <td>NaN</td>\n",
       "      <td>55.678037</td>\n",
       "      <td>37.256548</td>\n",
       "      <td>1.0</td>\n",
       "      <td>1.0</td>\n",
       "      <td>637680</td>\n",
       "      <td>1</td>\n",
       "    </tr>\n",
       "    <tr>\n",
       "      <th>3</th>\n",
       "      <td>3</td>\n",
       "      <td>3</td>\n",
       "      <td>14</td>\n",
       "      <td>Yamaha r6</td>\n",
       "      <td>Весь в тюнинге.</td>\n",
       "      <td>11919573, 14412228, 3204180, 6646877</td>\n",
       "      <td>{\"Вид техники\":\"Мотоциклы\", \"Вид мотоцикла\":\"С...</td>\n",
       "      <td>300000.0</td>\n",
       "      <td>639040</td>\n",
       "      <td>NaN</td>\n",
       "      <td>55.678037</td>\n",
       "      <td>37.256548</td>\n",
       "      <td>1.0</td>\n",
       "      <td>1.0</td>\n",
       "      <td>637680</td>\n",
       "      <td>1</td>\n",
       "    </tr>\n",
       "    <tr>\n",
       "      <th>4</th>\n",
       "      <td>4</td>\n",
       "      <td>4</td>\n",
       "      <td>84</td>\n",
       "      <td>iPhone 3gs 8gb</td>\n",
       "      <td>Телефон в хорошем состоянии, трещин и сколов н...</td>\n",
       "      <td>14384831, 6102021</td>\n",
       "      <td>{\"Вид телефона\":\"iPhone\"}</td>\n",
       "      <td>3500.0</td>\n",
       "      <td>640650</td>\n",
       "      <td>NaN</td>\n",
       "      <td>56.239398</td>\n",
       "      <td>43.460458</td>\n",
       "      <td>1.0</td>\n",
       "      <td>0.0</td>\n",
       "      <td>640310</td>\n",
       "      <td>6</td>\n",
       "    </tr>\n",
       "  </tbody>\n",
       "</table>\n",
       "</div>"
      ],
      "text/plain": [
       "   Unnamed: 0  itemID  categoryID              title  \\\n",
       "0           0       1          81  Продам Камаз 6520   \n",
       "1           1       1          81  Продам Камаз 6520   \n",
       "2           2       3          14          Yamaha r6   \n",
       "3           3       3          14          Yamaha r6   \n",
       "4           4       4          84     iPhone 3gs 8gb   \n",
       "\n",
       "                                         description  \\\n",
       "0                          Продам Камаз 6520 20 тонн   \n",
       "1                          Продам Камаз 6520 20 тонн   \n",
       "2                                    Весь в тюнинге.   \n",
       "3                                    Весь в тюнинге.   \n",
       "4  Телефон в хорошем состоянии, трещин и сколов н...   \n",
       "\n",
       "                                  images_array  \\\n",
       "0  1064094, 5252822, 6645873, 6960145, 9230265   \n",
       "1  1064094, 5252822, 6645873, 6960145, 9230265   \n",
       "2         11919573, 14412228, 3204180, 6646877   \n",
       "3         11919573, 14412228, 3204180, 6646877   \n",
       "4                            14384831, 6102021   \n",
       "\n",
       "                                           attrsJSON     price  locationID  \\\n",
       "0                        {\"Вид техники\":\"Грузовики\"}  300000.0      648140   \n",
       "1                        {\"Вид техники\":\"Грузовики\"}  300000.0      648140   \n",
       "2  {\"Вид техники\":\"Мотоциклы\", \"Вид мотоцикла\":\"С...  300000.0      639040   \n",
       "3  {\"Вид техники\":\"Мотоциклы\", \"Вид мотоцикла\":\"С...  300000.0      639040   \n",
       "4                          {\"Вид телефона\":\"iPhone\"}    3500.0      640650   \n",
       "\n",
       "   metroID        lat        lon  generationMethod  isDuplicate  regionID  \\\n",
       "0      NaN  64.686946  30.815924               1.0          1.0    648070   \n",
       "1      NaN  64.686946  30.815924               1.0          1.0    648070   \n",
       "2      NaN  55.678037  37.256548               1.0          1.0    637680   \n",
       "3      NaN  55.678037  37.256548               1.0          1.0    637680   \n",
       "4      NaN  56.239398  43.460458               1.0          0.0    640310   \n",
       "\n",
       "   parentCategoryID  \n",
       "0                 1  \n",
       "1                 1  \n",
       "2                 1  \n",
       "3                 1  \n",
       "4                 6  "
      ]
     },
     "execution_count": 5,
     "metadata": {},
     "output_type": "execute_result"
    }
   ],
   "source": [
    "train.head(5)"
   ]
  },
  {
   "cell_type": "code",
   "execution_count": 6,
   "metadata": {},
   "outputs": [
    {
     "name": "stdout",
     "output_type": "stream",
     "text": [
      "<class 'pandas.core.frame.DataFrame'>\n",
      "RangeIndex: 7490050 entries, 0 to 7490049\n",
      "Data columns (total 16 columns):\n",
      "Unnamed: 0          int64\n",
      "itemID              int64\n",
      "categoryID          int64\n",
      "title               object\n",
      "description         object\n",
      "images_array        object\n",
      "attrsJSON           object\n",
      "price               float64\n",
      "locationID          int64\n",
      "metroID             float64\n",
      "lat                 float64\n",
      "lon                 float64\n",
      "generationMethod    float64\n",
      "isDuplicate         float64\n",
      "regionID            int64\n",
      "parentCategoryID    int64\n",
      "dtypes: float64(6), int64(6), object(4)\n",
      "memory usage: 914.3+ MB\n"
     ]
    }
   ],
   "source": [
    "train.info()"
   ]
  },
  {
   "cell_type": "markdown",
   "metadata": {},
   "source": [
    "Classification Models: LDA, QDA, Logistic regression, SVM, Decision Trees, Random Forests, various forms of Boosting"
   ]
  },
  {
   "cell_type": "markdown",
   "metadata": {},
   "source": [
    "# 1 Tree based methods"
   ]
  },
  {
   "cell_type": "markdown",
   "metadata": {},
   "source": [
    "## 1.1 Decision Tree"
   ]
  },
  {
   "cell_type": "code",
   "execution_count": 42,
   "metadata": {},
   "outputs": [],
   "source": [
    "#metroID有太多 missing data\n",
    "train1 = train.drop(['Unnamed: 0', 'title', 'description', 'images_array', 'attrsJSON', 'generationMethod', 'metroID'], axis=1)"
   ]
  },
  {
   "cell_type": "code",
   "execution_count": 43,
   "metadata": {},
   "outputs": [],
   "source": [
    "train2 = train1.dropna()"
   ]
  },
  {
   "cell_type": "code",
   "execution_count": 52,
   "metadata": {},
   "outputs": [
    {
     "data": {
      "text/html": [
       "<div>\n",
       "<style scoped>\n",
       "    .dataframe tbody tr th:only-of-type {\n",
       "        vertical-align: middle;\n",
       "    }\n",
       "\n",
       "    .dataframe tbody tr th {\n",
       "        vertical-align: top;\n",
       "    }\n",
       "\n",
       "    .dataframe thead th {\n",
       "        text-align: right;\n",
       "    }\n",
       "</style>\n",
       "<table border=\"1\" class=\"dataframe\">\n",
       "  <thead>\n",
       "    <tr style=\"text-align: right;\">\n",
       "      <th></th>\n",
       "      <th>itemID</th>\n",
       "      <th>categoryID</th>\n",
       "      <th>price</th>\n",
       "      <th>locationID</th>\n",
       "      <th>lat</th>\n",
       "      <th>lon</th>\n",
       "      <th>isDuplicate</th>\n",
       "      <th>regionID</th>\n",
       "      <th>parentCategoryID</th>\n",
       "    </tr>\n",
       "  </thead>\n",
       "  <tbody>\n",
       "    <tr>\n",
       "      <th>0</th>\n",
       "      <td>1</td>\n",
       "      <td>81</td>\n",
       "      <td>300000.0</td>\n",
       "      <td>648140</td>\n",
       "      <td>64.686946</td>\n",
       "      <td>30.815924</td>\n",
       "      <td>1.0</td>\n",
       "      <td>648070</td>\n",
       "      <td>1</td>\n",
       "    </tr>\n",
       "    <tr>\n",
       "      <th>1</th>\n",
       "      <td>1</td>\n",
       "      <td>81</td>\n",
       "      <td>300000.0</td>\n",
       "      <td>648140</td>\n",
       "      <td>64.686946</td>\n",
       "      <td>30.815924</td>\n",
       "      <td>1.0</td>\n",
       "      <td>648070</td>\n",
       "      <td>1</td>\n",
       "    </tr>\n",
       "    <tr>\n",
       "      <th>2</th>\n",
       "      <td>3</td>\n",
       "      <td>14</td>\n",
       "      <td>300000.0</td>\n",
       "      <td>639040</td>\n",
       "      <td>55.678037</td>\n",
       "      <td>37.256548</td>\n",
       "      <td>1.0</td>\n",
       "      <td>637680</td>\n",
       "      <td>1</td>\n",
       "    </tr>\n",
       "    <tr>\n",
       "      <th>3</th>\n",
       "      <td>3</td>\n",
       "      <td>14</td>\n",
       "      <td>300000.0</td>\n",
       "      <td>639040</td>\n",
       "      <td>55.678037</td>\n",
       "      <td>37.256548</td>\n",
       "      <td>1.0</td>\n",
       "      <td>637680</td>\n",
       "      <td>1</td>\n",
       "    </tr>\n",
       "    <tr>\n",
       "      <th>4</th>\n",
       "      <td>4</td>\n",
       "      <td>84</td>\n",
       "      <td>3500.0</td>\n",
       "      <td>640650</td>\n",
       "      <td>56.239398</td>\n",
       "      <td>43.460458</td>\n",
       "      <td>0.0</td>\n",
       "      <td>640310</td>\n",
       "      <td>6</td>\n",
       "    </tr>\n",
       "  </tbody>\n",
       "</table>\n",
       "</div>"
      ],
      "text/plain": [
       "   itemID  categoryID     price  locationID        lat        lon  \\\n",
       "0       1          81  300000.0      648140  64.686946  30.815924   \n",
       "1       1          81  300000.0      648140  64.686946  30.815924   \n",
       "2       3          14  300000.0      639040  55.678037  37.256548   \n",
       "3       3          14  300000.0      639040  55.678037  37.256548   \n",
       "4       4          84    3500.0      640650  56.239398  43.460458   \n",
       "\n",
       "   isDuplicate  regionID  parentCategoryID  \n",
       "0          1.0    648070                 1  \n",
       "1          1.0    648070                 1  \n",
       "2          1.0    637680                 1  \n",
       "3          1.0    637680                 1  \n",
       "4          0.0    640310                 6  "
      ]
     },
     "execution_count": 52,
     "metadata": {},
     "output_type": "execute_result"
    }
   ],
   "source": [
    "train2.head()"
   ]
  },
  {
   "cell_type": "code",
   "execution_count": 68,
   "metadata": {},
   "outputs": [],
   "source": [
    "y = train2[['isDuplicate']]"
   ]
  },
  {
   "cell_type": "code",
   "execution_count": 69,
   "metadata": {},
   "outputs": [],
   "source": [
    "X = train2.drop('isDuplicate',axis=1)"
   ]
  },
  {
   "cell_type": "code",
   "execution_count": 70,
   "metadata": {},
   "outputs": [],
   "source": [
    "from sklearn.model_selection import train_test_split"
   ]
  },
  {
   "cell_type": "code",
   "execution_count": 71,
   "metadata": {},
   "outputs": [],
   "source": [
    "X_train, X_test, y_train, y_test = train_test_split(X, y, test_size=0.33)"
   ]
  },
  {
   "cell_type": "code",
   "execution_count": 72,
   "metadata": {},
   "outputs": [],
   "source": [
    "from sklearn.tree import DecisionTreeClassifier"
   ]
  },
  {
   "cell_type": "code",
   "execution_count": 73,
   "metadata": {},
   "outputs": [],
   "source": [
    "dtree = DecisionTreeClassifier()"
   ]
  },
  {
   "cell_type": "code",
   "execution_count": 75,
   "metadata": {},
   "outputs": [
    {
     "data": {
      "text/plain": [
       "DecisionTreeClassifier(class_weight=None, criterion='gini', max_depth=None,\n",
       "            max_features=None, max_leaf_nodes=None,\n",
       "            min_impurity_decrease=0.0, min_impurity_split=None,\n",
       "            min_samples_leaf=1, min_samples_split=2,\n",
       "            min_weight_fraction_leaf=0.0, presort=False, random_state=None,\n",
       "            splitter='best')"
      ]
     },
     "execution_count": 75,
     "metadata": {},
     "output_type": "execute_result"
    }
   ],
   "source": [
    "dtree.fit(X_train,y_train)"
   ]
  },
  {
   "cell_type": "code",
   "execution_count": 76,
   "metadata": {},
   "outputs": [],
   "source": [
    "prediction = dtree.predict(X_test)"
   ]
  },
  {
   "cell_type": "code",
   "execution_count": null,
   "metadata": {},
   "outputs": [],
   "source": [
    "prediction.head()"
   ]
  },
  {
   "cell_type": "code",
   "execution_count": 77,
   "metadata": {},
   "outputs": [],
   "source": [
    "from sklearn.metrics import classification_report, confusion_matrix"
   ]
  },
  {
   "cell_type": "code",
   "execution_count": 78,
   "metadata": {},
   "outputs": [
    {
     "name": "stdout",
     "output_type": "stream",
     "text": [
      "[[984317  64330]\n",
      " [106352 631953]]\n"
     ]
    }
   ],
   "source": [
    "print(confusion_matrix(y_test, prediction))"
   ]
  },
  {
   "cell_type": "code",
   "execution_count": 79,
   "metadata": {},
   "outputs": [
    {
     "name": "stdout",
     "output_type": "stream",
     "text": [
      "              precision    recall  f1-score   support\n",
      "\n",
      "         0.0       0.90      0.94      0.92   1048647\n",
      "         1.0       0.91      0.86      0.88    738305\n",
      "\n",
      "   micro avg       0.90      0.90      0.90   1786952\n",
      "   macro avg       0.91      0.90      0.90   1786952\n",
      "weighted avg       0.90      0.90      0.90   1786952\n",
      "\n"
     ]
    }
   ],
   "source": [
    "print(classification_report(y_test, prediction))"
   ]
  },
  {
   "cell_type": "markdown",
   "metadata": {},
   "source": [
    "We have a pretty good prediction already for the decision tree with high precision.\n"
   ]
  },
  {
   "cell_type": "markdown",
   "metadata": {},
   "source": [
    "## 1.2 Random Forest"
   ]
  },
  {
   "cell_type": "code",
   "execution_count": 80,
   "metadata": {},
   "outputs": [],
   "source": [
    "from sklearn.ensemble import RandomForestClassifier"
   ]
  },
  {
   "cell_type": "code",
   "execution_count": 84,
   "metadata": {},
   "outputs": [],
   "source": [
    "rfc = RandomForestClassifier(n_estimators = 30)"
   ]
  },
  {
   "cell_type": "code",
   "execution_count": null,
   "metadata": {},
   "outputs": [
    {
     "name": "stderr",
     "output_type": "stream",
     "text": [
      "/Users/jerry/anaconda3/lib/python3.7/site-packages/ipykernel_launcher.py:1: DataConversionWarning: A column-vector y was passed when a 1d array was expected. Please change the shape of y to (n_samples,), for example using ravel().\n",
      "  \"\"\"Entry point for launching an IPython kernel.\n"
     ]
    }
   ],
   "source": [
    "rfc.fit(X_train, y_train)"
   ]
  },
  {
   "cell_type": "code",
   "execution_count": null,
   "metadata": {},
   "outputs": [],
   "source": [
    "rfc_pred = rfc.predict(X_test)"
   ]
  },
  {
   "cell_type": "code",
   "execution_count": null,
   "metadata": {},
   "outputs": [],
   "source": [
    "print(confusion_matrix(y_test, rfc_pred))"
   ]
  },
  {
   "cell_type": "code",
   "execution_count": null,
   "metadata": {},
   "outputs": [],
   "source": [
    "print(classification_report(y_test, rfc_pred))"
   ]
  }
 ],
 "metadata": {
  "kernelspec": {
   "display_name": "Python 3",
   "language": "python",
   "name": "python3"
  },
  "language_info": {
   "codemirror_mode": {
    "name": "ipython",
    "version": 3
   },
   "file_extension": ".py",
   "mimetype": "text/x-python",
   "name": "python",
   "nbconvert_exporter": "python",
   "pygments_lexer": "ipython3",
   "version": "3.7.3"
  }
 },
 "nbformat": 4,
 "nbformat_minor": 2
}
