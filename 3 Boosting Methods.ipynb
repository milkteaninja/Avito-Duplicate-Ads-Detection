{
 "cells": [
  {
   "cell_type": "markdown",
   "metadata": {},
   "source": [
    "# 3 Boosting Methods"
   ]
  },
  {
   "cell_type": "code",
   "execution_count": 1,
   "metadata": {},
   "outputs": [],
   "source": [
    "import numpy as np\n",
    "import pandas as pd\n",
    "from sklearn.model_selection import train_test_split\n",
    "from sklearn.preprocessing import StandardScaler\n",
    "from sklearn.metrics import classification_report, confusion_matrix\n",
    "from sklearn.ensemble import GradientBoostingClassifier\n",
    "from sklearn import metrics"
   ]
  },
  {
   "cell_type": "code",
   "execution_count": 2,
   "metadata": {},
   "outputs": [],
   "source": [
    "# import and split data \n",
    "train = pd.read_csv('/Users/jerry/Desktop/udemy courses/Kaggle数据分析/Avito Duplicate Ads Detection/train.csv')\n",
    "X = train.drop(['Unnamed: 0', 'isDuplicate'],axis=1)\n",
    "y = train[['isDuplicate']]\n",
    "X_train, X_test, y_train, y_test = train_test_split(X, y, test_size=0.1)"
   ]
  },
  {
   "cell_type": "markdown",
   "metadata": {},
   "source": [
    "Normalization is used to reduce overfitting but since the result is not good, might not need this now. "
   ]
  },
  {
   "cell_type": "markdown",
   "metadata": {},
   "source": [
    "changing pandas dataframe to numpy array\n",
    "X_train = X_train.to_numpy()\n",
    "y_train = y_train.to_numpy()\n",
    "\n",
    "X_test = X_test.to_numpy()\n",
    "y_test = y_test.to_numpy()"
   ]
  },
  {
   "cell_type": "markdown",
   "metadata": {},
   "source": [
    "normalizing the data\n",
    "sc = StandardScaler()\n",
    "X_train = sc.fit_transform(X_train)\n",
    "\n",
    "X_test = sc.fit_transform(X_test)"
   ]
  },
  {
   "cell_type": "markdown",
   "metadata": {},
   "source": [
    "## 3.1 Gradient Boosting Machines (GBM)"
   ]
  },
  {
   "cell_type": "code",
   "execution_count": 57,
   "metadata": {},
   "outputs": [
    {
     "name": "stderr",
     "output_type": "stream",
     "text": [
      "/Users/jerry/anaconda3/lib/python3.7/site-packages/sklearn/utils/validation.py:72: DataConversionWarning: A column-vector y was passed when a 1d array was expected. Please change the shape of y to (n_samples, ), for example using ravel().\n",
      "  return f(**kwargs)\n"
     ]
    },
    {
     "name": "stdout",
     "output_type": "stream",
     "text": [
      "Learning rate:  0.05\n",
      "Accuracy score (training): 0.675\n",
      "Accuracy score (validation): 0.676\n"
     ]
    },
    {
     "name": "stderr",
     "output_type": "stream",
     "text": [
      "/Users/jerry/anaconda3/lib/python3.7/site-packages/sklearn/utils/validation.py:72: DataConversionWarning: A column-vector y was passed when a 1d array was expected. Please change the shape of y to (n_samples, ), for example using ravel().\n",
      "  return f(**kwargs)\n"
     ]
    },
    {
     "name": "stdout",
     "output_type": "stream",
     "text": [
      "Learning rate:  0.075\n",
      "Accuracy score (training): 0.681\n",
      "Accuracy score (validation): 0.681\n"
     ]
    },
    {
     "name": "stderr",
     "output_type": "stream",
     "text": [
      "/Users/jerry/anaconda3/lib/python3.7/site-packages/sklearn/utils/validation.py:72: DataConversionWarning: A column-vector y was passed when a 1d array was expected. Please change the shape of y to (n_samples, ), for example using ravel().\n",
      "  return f(**kwargs)\n"
     ]
    },
    {
     "name": "stdout",
     "output_type": "stream",
     "text": [
      "Learning rate:  0.1\n",
      "Accuracy score (training): 0.685\n",
      "Accuracy score (validation): 0.684\n"
     ]
    },
    {
     "name": "stderr",
     "output_type": "stream",
     "text": [
      "/Users/jerry/anaconda3/lib/python3.7/site-packages/sklearn/utils/validation.py:72: DataConversionWarning: A column-vector y was passed when a 1d array was expected. Please change the shape of y to (n_samples, ), for example using ravel().\n",
      "  return f(**kwargs)\n"
     ]
    },
    {
     "name": "stdout",
     "output_type": "stream",
     "text": [
      "Learning rate:  0.25\n",
      "Accuracy score (training): 0.699\n",
      "Accuracy score (validation): 0.699\n"
     ]
    },
    {
     "name": "stderr",
     "output_type": "stream",
     "text": [
      "/Users/jerry/anaconda3/lib/python3.7/site-packages/sklearn/utils/validation.py:72: DataConversionWarning: A column-vector y was passed when a 1d array was expected. Please change the shape of y to (n_samples, ), for example using ravel().\n",
      "  return f(**kwargs)\n"
     ]
    },
    {
     "name": "stdout",
     "output_type": "stream",
     "text": [
      "Learning rate:  0.5\n",
      "Accuracy score (training): 0.707\n",
      "Accuracy score (validation): 0.706\n"
     ]
    },
    {
     "name": "stderr",
     "output_type": "stream",
     "text": [
      "/Users/jerry/anaconda3/lib/python3.7/site-packages/sklearn/utils/validation.py:72: DataConversionWarning: A column-vector y was passed when a 1d array was expected. Please change the shape of y to (n_samples, ), for example using ravel().\n",
      "  return f(**kwargs)\n"
     ]
    },
    {
     "name": "stdout",
     "output_type": "stream",
     "text": [
      "Learning rate:  0.75\n",
      "Accuracy score (training): 0.705\n",
      "Accuracy score (validation): 0.704\n"
     ]
    },
    {
     "name": "stderr",
     "output_type": "stream",
     "text": [
      "/Users/jerry/anaconda3/lib/python3.7/site-packages/sklearn/utils/validation.py:72: DataConversionWarning: A column-vector y was passed when a 1d array was expected. Please change the shape of y to (n_samples, ), for example using ravel().\n",
      "  return f(**kwargs)\n"
     ]
    },
    {
     "name": "stdout",
     "output_type": "stream",
     "text": [
      "Learning rate:  1\n",
      "Accuracy score (training): 0.708\n",
      "Accuracy score (validation): 0.708\n"
     ]
    }
   ],
   "source": [
    "lr_list = [0.05, 0.075, 0.1, 0.25, 0.5, 0.75, 1]\n",
    "\n",
    "for learning_rate in lr_list:\n",
    "    gb_clf = GradientBoostingClassifier(n_estimators=20, learning_rate=learning_rate, max_features=2, max_depth=2, random_state=0)\n",
    "    gb_clf.fit(X_train, y_train)\n",
    "\n",
    "    print(\"Learning rate: \", learning_rate)\n",
    "    print(\"Accuracy score (training): {0:.3f}\".format(gb_clf.score(X_train, y_train)))\n",
    "    print(\"Accuracy score (validation): {0:.3f}\".format(gb_clf.score(X_test, y_test)))"
   ]
  },
  {
   "cell_type": "code",
   "execution_count": 9,
   "metadata": {},
   "outputs": [
    {
     "name": "stderr",
     "output_type": "stream",
     "text": [
      "/Users/jerry/anaconda3/lib/python3.7/site-packages/sklearn/utils/validation.py:72: DataConversionWarning: A column-vector y was passed when a 1d array was expected. Please change the shape of y to (n_samples, ), for example using ravel().\n",
      "  return f(**kwargs)\n"
     ]
    },
    {
     "name": "stdout",
     "output_type": "stream",
     "text": [
      "Confusion Matrix:\n",
      "[[249042  62893]\n",
      " [ 79771 138678]]\n",
      "Classification Report\n",
      "              precision    recall  f1-score   support\n",
      "\n",
      "           0       0.76      0.80      0.78    311935\n",
      "           1       0.69      0.63      0.66    218449\n",
      "\n",
      "    accuracy                           0.73    530384\n",
      "   macro avg       0.72      0.72      0.72    530384\n",
      "weighted avg       0.73      0.73      0.73    530384\n",
      "\n"
     ]
    }
   ],
   "source": [
    "# learning_rate=0.5 has the best result from above\n",
    "# number of tree can be large\n",
    "# max feauture = \n",
    "gb_clf2 = GradientBoostingClassifier(n_estimators=100, learning_rate=0.5, \n",
    "                                     max_features=3, max_depth=5, random_state=0,\n",
    "                                    )\n",
    "gb_clf2.fit(X_train, y_train)\n",
    "predictions = gb_clf2.predict(X_test)\n",
    "\n",
    "print(\"Confusion Matrix:\")\n",
    "print(confusion_matrix(y_test, predictions))\n",
    "\n",
    "print(\"Classification Report\")\n",
    "print(classification_report(y_test, predictions))"
   ]
  },
  {
   "cell_type": "code",
   "execution_count": 14,
   "metadata": {},
   "outputs": [],
   "source": [
    "predictions_1 = gb_clf2.predict_proba(X_test)[:,1]"
   ]
  },
  {
   "cell_type": "code",
   "execution_count": 15,
   "metadata": {},
   "outputs": [
    {
     "data": {
      "text/plain": [
       "0.803267925190694"
      ]
     },
     "execution_count": 15,
     "metadata": {},
     "output_type": "execute_result"
    }
   ],
   "source": [
    "fpr0, tpr0, thresholds0 = metrics.roc_curve(y_test, predictions_1)\n",
    "metrics.auc(fpr0, tpr0)"
   ]
  },
  {
   "cell_type": "code",
   "execution_count": null,
   "metadata": {},
   "outputs": [],
   "source": [
    "0.7866231063835826"
   ]
  },
  {
   "cell_type": "markdown",
   "metadata": {},
   "source": [
    "##   AdaBoost"
   ]
  },
  {
   "cell_type": "markdown",
   "metadata": {},
   "source": [
    "Increase weight for the good predictors. "
   ]
  },
  {
   "cell_type": "code",
   "execution_count": 3,
   "metadata": {},
   "outputs": [],
   "source": [
    "from sklearn.ensemble import AdaBoostClassifier\n",
    "from sklearn.model_selection import cross_val_score\n",
    "from sklearn.model_selection import RepeatedStratifiedKFold\n",
    "from numpy import mean\n",
    "from numpy import std\n",
    "from matplotlib import pyplot"
   ]
  },
  {
   "cell_type": "code",
   "execution_count": 91,
   "metadata": {},
   "outputs": [],
   "source": [
    "# get a list of models to evaluate\n",
    "def get_models():\n",
    "    models = dict()\n",
    "    # define number of trees to consider\n",
    "    n_trees = [10, 50, 100, 500, 1000]\n",
    "    for n in n_trees:\n",
    "        models[str(n)] = AdaBoostClassifier(n_estimators=n)\n",
    "    return models"
   ]
  },
  {
   "cell_type": "code",
   "execution_count": 92,
   "metadata": {},
   "outputs": [],
   "source": [
    "# evaluate a given model using cross-validation\n",
    "def evaluate_model(model, X, y):\n",
    "    # define the evaluation procedure\n",
    "    # https://medium.com/@venkatasujit272/overview-of-cross-validation-3785d5414ece\n",
    "    cv = RepeatedStratifiedKFold(n_splits=2, n_repeats=2, random_state=1) \n",
    "    # evaluate the model and collect the results\n",
    "    scores = cross_val_score(model, X, y, scoring='accuracy', cv=cv, n_jobs=-1)\n",
    "    return scores"
   ]
  },
  {
   "cell_type": "code",
   "execution_count": 93,
   "metadata": {},
   "outputs": [
    {
     "name": "stdout",
     "output_type": "stream",
     "text": [
      ">10 0.701 (0.000)\n",
      ">50 0.706 (0.000)\n",
      ">100 0.707 (0.000)\n",
      ">500 0.710 (0.000)\n",
      ">1000 0.712 (0.000)\n"
     ]
    }
   ],
   "source": [
    "models = get_models()\n",
    "results, names = list(), list()\n",
    "\n",
    "for name, model in models.items():\n",
    "    # evaluate the model\n",
    "    scores = evaluate_model(model, X, y)\n",
    "    # store the results\n",
    "    results.append(scores)\n",
    "    names.append(name)\n",
    "    # summarize the performance along the way\n",
    "    print('>%s %.3f (%.3f)' % (name, mean(scores), std(scores)))"
   ]
  },
  {
   "cell_type": "code",
   "execution_count": null,
   "metadata": {},
   "outputs": [],
   "source": [
    "pyplot.boxplot(results, labels=names, showmeans=True)\n",
    "pyplot.show()"
   ]
  },
  {
   "cell_type": "code",
   "execution_count": 5,
   "metadata": {},
   "outputs": [
    {
     "name": "stderr",
     "output_type": "stream",
     "text": [
      "/Users/jerry/anaconda3/lib/python3.7/site-packages/sklearn/utils/validation.py:72: DataConversionWarning: A column-vector y was passed when a 1d array was expected. Please change the shape of y to (n_samples, ), for example using ravel().\n",
      "  return f(**kwargs)\n"
     ]
    }
   ],
   "source": [
    "ada = AdaBoostClassifier(n_estimators=1000).fit(X_train, y_train)"
   ]
  },
  {
   "cell_type": "markdown",
   "metadata": {},
   "source": [
    "So when number of tree = 1000 model returns the best result. "
   ]
  },
  {
   "cell_type": "code",
   "execution_count": 6,
   "metadata": {},
   "outputs": [],
   "source": [
    "ada_predict = ada.predict_proba(X_test)[:,1]"
   ]
  },
  {
   "cell_type": "code",
   "execution_count": 7,
   "metadata": {},
   "outputs": [
    {
     "data": {
      "text/plain": [
       "0.7843416264428136"
      ]
     },
     "execution_count": 7,
     "metadata": {},
     "output_type": "execute_result"
    }
   ],
   "source": [
    "fpr0, tpr0, thresholds0 = metrics.roc_curve(y_test, ada_predict)\n",
    "metrics.auc(fpr0, tpr0)"
   ]
  },
  {
   "cell_type": "markdown",
   "metadata": {},
   "source": [
    "## LightGBM"
   ]
  },
  {
   "cell_type": "code",
   "execution_count": null,
   "metadata": {},
   "outputs": [],
   "source": []
  },
  {
   "cell_type": "markdown",
   "metadata": {},
   "source": [
    "## XGBoosting"
   ]
  },
  {
   "cell_type": "code",
   "execution_count": 6,
   "metadata": {},
   "outputs": [],
   "source": [
    "from xgboost import XGBClassifier\n",
    "from sklearn.model_selection import RandomizedSearchCV, GridSearchCV\n",
    "from sklearn.metrics import roc_auc_score\n",
    "from sklearn.model_selection import StratifiedKFold"
   ]
  },
  {
   "cell_type": "code",
   "execution_count": 10,
   "metadata": {},
   "outputs": [],
   "source": [
    "folds = 2 # splits/folds \n",
    "param_comb = 30 # different combinations\n",
    "\n",
    "parameter_grid = {\"learning_rate\"    : [0.05, 0.10, 0.15, 0.20, 0.25, 0.30 ] ,\n",
    " \"max_depth\"        : [ 3, 4, 5, 6, 8, 10, 12, 15],\n",
    " \"min_child_weight\" : [ 1, 3, 5, 7 ],\n",
    " \"gamma\"            : [ 0.0, 0.1, 0.2 , 0.3, 0.4 ],\n",
    " \"colsample_bytree\" : [ 0.3, 0.4, 0.5 , 0.7 ],\n",
    " \"n_estimators\" : [50, 100, 150, 200]\n",
    "                 }\n",
    "\n",
    "skf = StratifiedKFold(n_splits=folds, shuffle = True, random_state = 1001)"
   ]
  },
  {
   "cell_type": "code",
   "execution_count": 11,
   "metadata": {},
   "outputs": [],
   "source": [
    "xgb_clf = XGBClassifier(subsample = 0.8)\n",
    "#xgb_clf.fit(X_train, y_train)"
   ]
  },
  {
   "cell_type": "code",
   "execution_count": 12,
   "metadata": {},
   "outputs": [],
   "source": [
    "random_search = RandomizedSearchCV(xgb_clf, param_distributions=parameter_grid, \n",
    "                                   n_iter=param_comb, scoring='roc_auc', \n",
    "                                   n_jobs=-1, cv=skf.split(X_train, y_train), \n",
    "                                   verbose=3, random_state=1001 )"
   ]
  },
  {
   "cell_type": "code",
   "execution_count": 13,
   "metadata": {},
   "outputs": [
    {
     "name": "stdout",
     "output_type": "stream",
     "text": [
      "Fitting 2 folds for each of 30 candidates, totalling 60 fits\n"
     ]
    },
    {
     "name": "stderr",
     "output_type": "stream",
     "text": [
      "[Parallel(n_jobs=-1)]: Using backend LokyBackend with 12 concurrent workers.\n",
      "[Parallel(n_jobs=-1)]: Done   8 tasks      | elapsed:  4.6min\n",
      "/Users/jerry/anaconda3/lib/python3.7/site-packages/joblib/externals/loky/process_executor.py:691: UserWarning: A worker stopped while some jobs were given to the executor. This can be caused by a too short worker timeout or by a memory leak.\n",
      "  \"timeout or by a memory leak.\", UserWarning\n",
      "[Parallel(n_jobs=-1)]: Done  58 out of  60 | elapsed: 22.5min remaining:   46.5s\n",
      "[Parallel(n_jobs=-1)]: Done  60 out of  60 | elapsed: 22.6min finished\n",
      "/Users/jerry/anaconda3/lib/python3.7/site-packages/sklearn/utils/validation.py:72: DataConversionWarning: A column-vector y was passed when a 1d array was expected. Please change the shape of y to (n_samples, ), for example using ravel().\n",
      "  return f(**kwargs)\n"
     ]
    },
    {
     "data": {
      "text/plain": [
       "RandomizedSearchCV(cv=<generator object _BaseKFold.split at 0x7fb920de72a0>,\n",
       "                   estimator=XGBClassifier(base_score=None, booster=None,\n",
       "                                           colsample_bylevel=None,\n",
       "                                           colsample_bynode=None,\n",
       "                                           colsample_bytree=None, gamma=None,\n",
       "                                           gpu_id=None, importance_type='gain',\n",
       "                                           interaction_constraints=None,\n",
       "                                           learning_rate=None,\n",
       "                                           max_delta_step=None, max_depth=None,\n",
       "                                           min_child_weight=None, missing...\n",
       "                                           tree_method=None,\n",
       "                                           validate_parameters=None,\n",
       "                                           verbosity=None),\n",
       "                   n_iter=30, n_jobs=-1,\n",
       "                   param_distributions={'colsample_bytree': [0.3, 0.4, 0.5,\n",
       "                                                             0.7],\n",
       "                                        'gamma': [0.0, 0.1, 0.2, 0.3, 0.4],\n",
       "                                        'learning_rate': [0.05, 0.1, 0.15, 0.2,\n",
       "                                                          0.25, 0.3],\n",
       "                                        'max_depth': [3, 4, 5, 6, 8, 10, 12,\n",
       "                                                      15],\n",
       "                                        'min_child_weight': [1, 3, 5, 7],\n",
       "                                        'n_estimators': [50, 100, 150, 200]},\n",
       "                   random_state=1001, scoring='roc_auc', verbose=3)"
      ]
     },
     "execution_count": 13,
     "metadata": {},
     "output_type": "execute_result"
    }
   ],
   "source": [
    "random_search.fit(X_train, y_train)"
   ]
  },
  {
   "cell_type": "code",
   "execution_count": 14,
   "metadata": {},
   "outputs": [
    {
     "data": {
      "text/html": [
       "<div>\n",
       "<style scoped>\n",
       "    .dataframe tbody tr th:only-of-type {\n",
       "        vertical-align: middle;\n",
       "    }\n",
       "\n",
       "    .dataframe tbody tr th {\n",
       "        vertical-align: top;\n",
       "    }\n",
       "\n",
       "    .dataframe thead th {\n",
       "        text-align: right;\n",
       "    }\n",
       "</style>\n",
       "<table border=\"1\" class=\"dataframe\">\n",
       "  <thead>\n",
       "    <tr style=\"text-align: right;\">\n",
       "      <th></th>\n",
       "      <th>mean_fit_time</th>\n",
       "      <th>std_fit_time</th>\n",
       "      <th>mean_score_time</th>\n",
       "      <th>std_score_time</th>\n",
       "      <th>param_n_estimators</th>\n",
       "      <th>param_min_child_weight</th>\n",
       "      <th>param_max_depth</th>\n",
       "      <th>param_learning_rate</th>\n",
       "      <th>param_gamma</th>\n",
       "      <th>param_colsample_bytree</th>\n",
       "      <th>params</th>\n",
       "      <th>split0_test_score</th>\n",
       "      <th>split1_test_score</th>\n",
       "      <th>mean_test_score</th>\n",
       "      <th>std_test_score</th>\n",
       "      <th>rank_test_score</th>\n",
       "    </tr>\n",
       "  </thead>\n",
       "  <tbody>\n",
       "    <tr>\n",
       "      <th>0</th>\n",
       "      <td>488.774826</td>\n",
       "      <td>0.011202</td>\n",
       "      <td>37.387996</td>\n",
       "      <td>0.138529</td>\n",
       "      <td>100</td>\n",
       "      <td>7</td>\n",
       "      <td>12</td>\n",
       "      <td>0.25</td>\n",
       "      <td>0.4</td>\n",
       "      <td>0.7</td>\n",
       "      <td>{'n_estimators': 100, 'min_child_weight': 7, '...</td>\n",
       "      <td>0.811738</td>\n",
       "      <td>0.812091</td>\n",
       "      <td>0.811915</td>\n",
       "      <td>0.000176</td>\n",
       "      <td>2</td>\n",
       "    </tr>\n",
       "    <tr>\n",
       "      <th>1</th>\n",
       "      <td>76.044415</td>\n",
       "      <td>0.010370</td>\n",
       "      <td>5.072683</td>\n",
       "      <td>0.030259</td>\n",
       "      <td>100</td>\n",
       "      <td>5</td>\n",
       "      <td>3</td>\n",
       "      <td>0.3</td>\n",
       "      <td>0.3</td>\n",
       "      <td>0.3</td>\n",
       "      <td>{'n_estimators': 100, 'min_child_weight': 5, '...</td>\n",
       "      <td>0.790290</td>\n",
       "      <td>0.790186</td>\n",
       "      <td>0.790238</td>\n",
       "      <td>0.000052</td>\n",
       "      <td>28</td>\n",
       "    </tr>\n",
       "    <tr>\n",
       "      <th>2</th>\n",
       "      <td>257.122035</td>\n",
       "      <td>0.175302</td>\n",
       "      <td>15.369239</td>\n",
       "      <td>0.143417</td>\n",
       "      <td>100</td>\n",
       "      <td>7</td>\n",
       "      <td>6</td>\n",
       "      <td>0.2</td>\n",
       "      <td>0.2</td>\n",
       "      <td>0.7</td>\n",
       "      <td>{'n_estimators': 100, 'min_child_weight': 7, '...</td>\n",
       "      <td>0.803062</td>\n",
       "      <td>0.802924</td>\n",
       "      <td>0.802993</td>\n",
       "      <td>0.000069</td>\n",
       "      <td>13</td>\n",
       "    </tr>\n",
       "    <tr>\n",
       "      <th>3</th>\n",
       "      <td>165.978122</td>\n",
       "      <td>0.159343</td>\n",
       "      <td>10.481747</td>\n",
       "      <td>0.111451</td>\n",
       "      <td>150</td>\n",
       "      <td>7</td>\n",
       "      <td>4</td>\n",
       "      <td>0.15</td>\n",
       "      <td>0</td>\n",
       "      <td>0.3</td>\n",
       "      <td>{'n_estimators': 150, 'min_child_weight': 7, '...</td>\n",
       "      <td>0.792194</td>\n",
       "      <td>0.792031</td>\n",
       "      <td>0.792113</td>\n",
       "      <td>0.000082</td>\n",
       "      <td>25</td>\n",
       "    </tr>\n",
       "    <tr>\n",
       "      <th>4</th>\n",
       "      <td>470.304896</td>\n",
       "      <td>0.737094</td>\n",
       "      <td>71.702561</td>\n",
       "      <td>0.478026</td>\n",
       "      <td>200</td>\n",
       "      <td>1</td>\n",
       "      <td>12</td>\n",
       "      <td>0.1</td>\n",
       "      <td>0</td>\n",
       "      <td>0.3</td>\n",
       "      <td>{'n_estimators': 200, 'min_child_weight': 1, '...</td>\n",
       "      <td>0.809901</td>\n",
       "      <td>0.810054</td>\n",
       "      <td>0.809977</td>\n",
       "      <td>0.000077</td>\n",
       "      <td>7</td>\n",
       "    </tr>\n",
       "    <tr>\n",
       "      <th>5</th>\n",
       "      <td>154.512020</td>\n",
       "      <td>0.359926</td>\n",
       "      <td>12.549266</td>\n",
       "      <td>0.208768</td>\n",
       "      <td>50</td>\n",
       "      <td>7</td>\n",
       "      <td>8</td>\n",
       "      <td>0.1</td>\n",
       "      <td>0.3</td>\n",
       "      <td>0.5</td>\n",
       "      <td>{'n_estimators': 50, 'min_child_weight': 7, 'm...</td>\n",
       "      <td>0.799266</td>\n",
       "      <td>0.799705</td>\n",
       "      <td>0.799485</td>\n",
       "      <td>0.000219</td>\n",
       "      <td>17</td>\n",
       "    </tr>\n",
       "    <tr>\n",
       "      <th>6</th>\n",
       "      <td>205.405043</td>\n",
       "      <td>0.000333</td>\n",
       "      <td>17.997938</td>\n",
       "      <td>0.268348</td>\n",
       "      <td>50</td>\n",
       "      <td>5</td>\n",
       "      <td>12</td>\n",
       "      <td>0.3</td>\n",
       "      <td>0.2</td>\n",
       "      <td>0.4</td>\n",
       "      <td>{'n_estimators': 50, 'min_child_weight': 5, 'm...</td>\n",
       "      <td>0.809746</td>\n",
       "      <td>0.809460</td>\n",
       "      <td>0.809603</td>\n",
       "      <td>0.000143</td>\n",
       "      <td>9</td>\n",
       "    </tr>\n",
       "    <tr>\n",
       "      <th>7</th>\n",
       "      <td>145.710527</td>\n",
       "      <td>0.382719</td>\n",
       "      <td>7.480167</td>\n",
       "      <td>0.024456</td>\n",
       "      <td>150</td>\n",
       "      <td>7</td>\n",
       "      <td>3</td>\n",
       "      <td>0.25</td>\n",
       "      <td>0.1</td>\n",
       "      <td>0.3</td>\n",
       "      <td>{'n_estimators': 150, 'min_child_weight': 7, '...</td>\n",
       "      <td>0.791795</td>\n",
       "      <td>0.791773</td>\n",
       "      <td>0.791784</td>\n",
       "      <td>0.000011</td>\n",
       "      <td>27</td>\n",
       "    </tr>\n",
       "    <tr>\n",
       "      <th>8</th>\n",
       "      <td>404.980627</td>\n",
       "      <td>0.863941</td>\n",
       "      <td>46.280472</td>\n",
       "      <td>0.204459</td>\n",
       "      <td>200</td>\n",
       "      <td>5</td>\n",
       "      <td>10</td>\n",
       "      <td>0.25</td>\n",
       "      <td>0</td>\n",
       "      <td>0.3</td>\n",
       "      <td>{'n_estimators': 200, 'min_child_weight': 5, '...</td>\n",
       "      <td>0.809595</td>\n",
       "      <td>0.809670</td>\n",
       "      <td>0.809632</td>\n",
       "      <td>0.000037</td>\n",
       "      <td>8</td>\n",
       "    </tr>\n",
       "    <tr>\n",
       "      <th>9</th>\n",
       "      <td>473.802852</td>\n",
       "      <td>0.110826</td>\n",
       "      <td>73.492869</td>\n",
       "      <td>0.105033</td>\n",
       "      <td>200</td>\n",
       "      <td>1</td>\n",
       "      <td>12</td>\n",
       "      <td>0.05</td>\n",
       "      <td>0.1</td>\n",
       "      <td>0.3</td>\n",
       "      <td>{'n_estimators': 200, 'min_child_weight': 1, '...</td>\n",
       "      <td>0.804701</td>\n",
       "      <td>0.805291</td>\n",
       "      <td>0.804996</td>\n",
       "      <td>0.000295</td>\n",
       "      <td>11</td>\n",
       "    </tr>\n",
       "    <tr>\n",
       "      <th>10</th>\n",
       "      <td>148.940056</td>\n",
       "      <td>0.080034</td>\n",
       "      <td>10.357236</td>\n",
       "      <td>0.009871</td>\n",
       "      <td>100</td>\n",
       "      <td>3</td>\n",
       "      <td>6</td>\n",
       "      <td>0.3</td>\n",
       "      <td>0.1</td>\n",
       "      <td>0.3</td>\n",
       "      <td>{'n_estimators': 100, 'min_child_weight': 3, '...</td>\n",
       "      <td>0.800873</td>\n",
       "      <td>0.800082</td>\n",
       "      <td>0.800477</td>\n",
       "      <td>0.000395</td>\n",
       "      <td>14</td>\n",
       "    </tr>\n",
       "    <tr>\n",
       "      <th>11</th>\n",
       "      <td>96.901323</td>\n",
       "      <td>0.162837</td>\n",
       "      <td>5.584944</td>\n",
       "      <td>0.017468</td>\n",
       "      <td>50</td>\n",
       "      <td>5</td>\n",
       "      <td>4</td>\n",
       "      <td>0.3</td>\n",
       "      <td>0.1</td>\n",
       "      <td>0.7</td>\n",
       "      <td>{'n_estimators': 50, 'min_child_weight': 5, 'm...</td>\n",
       "      <td>0.794755</td>\n",
       "      <td>0.794272</td>\n",
       "      <td>0.794514</td>\n",
       "      <td>0.000241</td>\n",
       "      <td>20</td>\n",
       "    </tr>\n",
       "    <tr>\n",
       "      <th>12</th>\n",
       "      <td>63.854494</td>\n",
       "      <td>0.067195</td>\n",
       "      <td>4.097540</td>\n",
       "      <td>0.024009</td>\n",
       "      <td>50</td>\n",
       "      <td>3</td>\n",
       "      <td>3</td>\n",
       "      <td>0.2</td>\n",
       "      <td>0.2</td>\n",
       "      <td>0.4</td>\n",
       "      <td>{'n_estimators': 50, 'min_child_weight': 3, 'm...</td>\n",
       "      <td>0.784749</td>\n",
       "      <td>0.784419</td>\n",
       "      <td>0.784584</td>\n",
       "      <td>0.000165</td>\n",
       "      <td>29</td>\n",
       "    </tr>\n",
       "    <tr>\n",
       "      <th>13</th>\n",
       "      <td>134.104279</td>\n",
       "      <td>0.137714</td>\n",
       "      <td>7.467663</td>\n",
       "      <td>0.066593</td>\n",
       "      <td>100</td>\n",
       "      <td>7</td>\n",
       "      <td>3</td>\n",
       "      <td>0.3</td>\n",
       "      <td>0.1</td>\n",
       "      <td>0.5</td>\n",
       "      <td>{'n_estimators': 100, 'min_child_weight': 7, '...</td>\n",
       "      <td>0.793809</td>\n",
       "      <td>0.793121</td>\n",
       "      <td>0.793465</td>\n",
       "      <td>0.000344</td>\n",
       "      <td>21</td>\n",
       "    </tr>\n",
       "    <tr>\n",
       "      <th>14</th>\n",
       "      <td>289.021714</td>\n",
       "      <td>0.448238</td>\n",
       "      <td>18.074003</td>\n",
       "      <td>0.524936</td>\n",
       "      <td>100</td>\n",
       "      <td>3</td>\n",
       "      <td>8</td>\n",
       "      <td>0.3</td>\n",
       "      <td>0.4</td>\n",
       "      <td>0.5</td>\n",
       "      <td>{'n_estimators': 100, 'min_child_weight': 3, '...</td>\n",
       "      <td>0.808423</td>\n",
       "      <td>0.808477</td>\n",
       "      <td>0.808450</td>\n",
       "      <td>0.000027</td>\n",
       "      <td>10</td>\n",
       "    </tr>\n",
       "    <tr>\n",
       "      <th>15</th>\n",
       "      <td>220.757625</td>\n",
       "      <td>0.336727</td>\n",
       "      <td>14.934277</td>\n",
       "      <td>0.251627</td>\n",
       "      <td>150</td>\n",
       "      <td>7</td>\n",
       "      <td>6</td>\n",
       "      <td>0.2</td>\n",
       "      <td>0.1</td>\n",
       "      <td>0.3</td>\n",
       "      <td>{'n_estimators': 150, 'min_child_weight': 7, '...</td>\n",
       "      <td>0.800121</td>\n",
       "      <td>0.800032</td>\n",
       "      <td>0.800077</td>\n",
       "      <td>0.000045</td>\n",
       "      <td>16</td>\n",
       "    </tr>\n",
       "    <tr>\n",
       "      <th>16</th>\n",
       "      <td>555.266567</td>\n",
       "      <td>0.019629</td>\n",
       "      <td>57.926168</td>\n",
       "      <td>0.292334</td>\n",
       "      <td>200</td>\n",
       "      <td>3</td>\n",
       "      <td>10</td>\n",
       "      <td>0.15</td>\n",
       "      <td>0.2</td>\n",
       "      <td>0.4</td>\n",
       "      <td>{'n_estimators': 200, 'min_child_weight': 3, '...</td>\n",
       "      <td>0.810868</td>\n",
       "      <td>0.810832</td>\n",
       "      <td>0.810850</td>\n",
       "      <td>0.000018</td>\n",
       "      <td>5</td>\n",
       "    </tr>\n",
       "    <tr>\n",
       "      <th>17</th>\n",
       "      <td>186.557447</td>\n",
       "      <td>0.169819</td>\n",
       "      <td>9.008858</td>\n",
       "      <td>0.029794</td>\n",
       "      <td>100</td>\n",
       "      <td>7</td>\n",
       "      <td>4</td>\n",
       "      <td>0.25</td>\n",
       "      <td>0.4</td>\n",
       "      <td>0.7</td>\n",
       "      <td>{'n_estimators': 100, 'min_child_weight': 7, '...</td>\n",
       "      <td>0.797837</td>\n",
       "      <td>0.797618</td>\n",
       "      <td>0.797728</td>\n",
       "      <td>0.000110</td>\n",
       "      <td>18</td>\n",
       "    </tr>\n",
       "    <tr>\n",
       "      <th>18</th>\n",
       "      <td>661.709921</td>\n",
       "      <td>0.299935</td>\n",
       "      <td>40.562939</td>\n",
       "      <td>0.339685</td>\n",
       "      <td>200</td>\n",
       "      <td>7</td>\n",
       "      <td>10</td>\n",
       "      <td>0.25</td>\n",
       "      <td>0.3</td>\n",
       "      <td>0.5</td>\n",
       "      <td>{'n_estimators': 200, 'min_child_weight': 7, '...</td>\n",
       "      <td>0.812661</td>\n",
       "      <td>0.812127</td>\n",
       "      <td>0.812394</td>\n",
       "      <td>0.000267</td>\n",
       "      <td>1</td>\n",
       "    </tr>\n",
       "    <tr>\n",
       "      <th>19</th>\n",
       "      <td>53.000748</td>\n",
       "      <td>0.009279</td>\n",
       "      <td>3.695857</td>\n",
       "      <td>0.015756</td>\n",
       "      <td>50</td>\n",
       "      <td>7</td>\n",
       "      <td>3</td>\n",
       "      <td>0.2</td>\n",
       "      <td>0</td>\n",
       "      <td>0.3</td>\n",
       "      <td>{'n_estimators': 50, 'min_child_weight': 7, 'm...</td>\n",
       "      <td>0.783960</td>\n",
       "      <td>0.783888</td>\n",
       "      <td>0.783924</td>\n",
       "      <td>0.000036</td>\n",
       "      <td>30</td>\n",
       "    </tr>\n",
       "    <tr>\n",
       "      <th>20</th>\n",
       "      <td>355.593569</td>\n",
       "      <td>0.589963</td>\n",
       "      <td>41.393838</td>\n",
       "      <td>0.115542</td>\n",
       "      <td>150</td>\n",
       "      <td>3</td>\n",
       "      <td>12</td>\n",
       "      <td>0.2</td>\n",
       "      <td>0.2</td>\n",
       "      <td>0.3</td>\n",
       "      <td>{'n_estimators': 150, 'min_child_weight': 3, '...</td>\n",
       "      <td>0.810892</td>\n",
       "      <td>0.810953</td>\n",
       "      <td>0.810923</td>\n",
       "      <td>0.000030</td>\n",
       "      <td>4</td>\n",
       "    </tr>\n",
       "    <tr>\n",
       "      <th>21</th>\n",
       "      <td>316.912415</td>\n",
       "      <td>0.577676</td>\n",
       "      <td>32.066897</td>\n",
       "      <td>0.118741</td>\n",
       "      <td>50</td>\n",
       "      <td>5</td>\n",
       "      <td>15</td>\n",
       "      <td>0.2</td>\n",
       "      <td>0.2</td>\n",
       "      <td>0.7</td>\n",
       "      <td>{'n_estimators': 50, 'min_child_weight': 5, 'm...</td>\n",
       "      <td>0.811197</td>\n",
       "      <td>0.811470</td>\n",
       "      <td>0.811334</td>\n",
       "      <td>0.000136</td>\n",
       "      <td>3</td>\n",
       "    </tr>\n",
       "    <tr>\n",
       "      <th>22</th>\n",
       "      <td>179.734849</td>\n",
       "      <td>0.193847</td>\n",
       "      <td>18.375524</td>\n",
       "      <td>0.036813</td>\n",
       "      <td>100</td>\n",
       "      <td>1</td>\n",
       "      <td>8</td>\n",
       "      <td>0.05</td>\n",
       "      <td>0.1</td>\n",
       "      <td>0.3</td>\n",
       "      <td>{'n_estimators': 100, 'min_child_weight': 1, '...</td>\n",
       "      <td>0.793240</td>\n",
       "      <td>0.793388</td>\n",
       "      <td>0.793314</td>\n",
       "      <td>0.000074</td>\n",
       "      <td>23</td>\n",
       "    </tr>\n",
       "    <tr>\n",
       "      <th>23</th>\n",
       "      <td>103.824054</td>\n",
       "      <td>0.005183</td>\n",
       "      <td>8.738807</td>\n",
       "      <td>0.060594</td>\n",
       "      <td>50</td>\n",
       "      <td>1</td>\n",
       "      <td>8</td>\n",
       "      <td>0.1</td>\n",
       "      <td>0.4</td>\n",
       "      <td>0.3</td>\n",
       "      <td>{'n_estimators': 50, 'min_child_weight': 1, 'm...</td>\n",
       "      <td>0.793086</td>\n",
       "      <td>0.793124</td>\n",
       "      <td>0.793105</td>\n",
       "      <td>0.000019</td>\n",
       "      <td>24</td>\n",
       "    </tr>\n",
       "    <tr>\n",
       "      <th>24</th>\n",
       "      <td>389.340834</td>\n",
       "      <td>0.686900</td>\n",
       "      <td>23.684446</td>\n",
       "      <td>0.059073</td>\n",
       "      <td>150</td>\n",
       "      <td>1</td>\n",
       "      <td>10</td>\n",
       "      <td>0.2</td>\n",
       "      <td>0.3</td>\n",
       "      <td>0.4</td>\n",
       "      <td>{'n_estimators': 150, 'min_child_weight': 1, '...</td>\n",
       "      <td>0.810891</td>\n",
       "      <td>0.810688</td>\n",
       "      <td>0.810790</td>\n",
       "      <td>0.000102</td>\n",
       "      <td>6</td>\n",
       "    </tr>\n",
       "    <tr>\n",
       "      <th>25</th>\n",
       "      <td>132.760458</td>\n",
       "      <td>0.009645</td>\n",
       "      <td>8.811191</td>\n",
       "      <td>0.048150</td>\n",
       "      <td>100</td>\n",
       "      <td>3</td>\n",
       "      <td>5</td>\n",
       "      <td>0.2</td>\n",
       "      <td>0</td>\n",
       "      <td>0.3</td>\n",
       "      <td>{'n_estimators': 100, 'min_child_weight': 3, '...</td>\n",
       "      <td>0.795124</td>\n",
       "      <td>0.795002</td>\n",
       "      <td>0.795063</td>\n",
       "      <td>0.000061</td>\n",
       "      <td>19</td>\n",
       "    </tr>\n",
       "    <tr>\n",
       "      <th>26</th>\n",
       "      <td>195.080717</td>\n",
       "      <td>0.278548</td>\n",
       "      <td>5.238750</td>\n",
       "      <td>0.062912</td>\n",
       "      <td>100</td>\n",
       "      <td>1</td>\n",
       "      <td>6</td>\n",
       "      <td>0.25</td>\n",
       "      <td>0.4</td>\n",
       "      <td>0.7</td>\n",
       "      <td>{'n_estimators': 100, 'min_child_weight': 1, '...</td>\n",
       "      <td>0.804229</td>\n",
       "      <td>0.804122</td>\n",
       "      <td>0.804175</td>\n",
       "      <td>0.000054</td>\n",
       "      <td>12</td>\n",
       "    </tr>\n",
       "    <tr>\n",
       "      <th>27</th>\n",
       "      <td>127.989392</td>\n",
       "      <td>0.006900</td>\n",
       "      <td>14.604963</td>\n",
       "      <td>0.024208</td>\n",
       "      <td>50</td>\n",
       "      <td>5</td>\n",
       "      <td>12</td>\n",
       "      <td>0.1</td>\n",
       "      <td>0</td>\n",
       "      <td>0.3</td>\n",
       "      <td>{'n_estimators': 50, 'min_child_weight': 5, 'm...</td>\n",
       "      <td>0.800162</td>\n",
       "      <td>0.800578</td>\n",
       "      <td>0.800370</td>\n",
       "      <td>0.000208</td>\n",
       "      <td>15</td>\n",
       "    </tr>\n",
       "    <tr>\n",
       "      <th>28</th>\n",
       "      <td>75.775251</td>\n",
       "      <td>0.105722</td>\n",
       "      <td>7.300457</td>\n",
       "      <td>0.068225</td>\n",
       "      <td>50</td>\n",
       "      <td>3</td>\n",
       "      <td>6</td>\n",
       "      <td>0.2</td>\n",
       "      <td>0</td>\n",
       "      <td>0.3</td>\n",
       "      <td>{'n_estimators': 50, 'min_child_weight': 3, 'm...</td>\n",
       "      <td>0.792988</td>\n",
       "      <td>0.793679</td>\n",
       "      <td>0.793333</td>\n",
       "      <td>0.000346</td>\n",
       "      <td>22</td>\n",
       "    </tr>\n",
       "    <tr>\n",
       "      <th>29</th>\n",
       "      <td>118.819308</td>\n",
       "      <td>0.581742</td>\n",
       "      <td>6.041367</td>\n",
       "      <td>0.043315</td>\n",
       "      <td>100</td>\n",
       "      <td>5</td>\n",
       "      <td>4</td>\n",
       "      <td>0.15</td>\n",
       "      <td>0.2</td>\n",
       "      <td>0.4</td>\n",
       "      <td>{'n_estimators': 100, 'min_child_weight': 5, '...</td>\n",
       "      <td>0.792372</td>\n",
       "      <td>0.791696</td>\n",
       "      <td>0.792034</td>\n",
       "      <td>0.000338</td>\n",
       "      <td>26</td>\n",
       "    </tr>\n",
       "  </tbody>\n",
       "</table>\n",
       "</div>"
      ],
      "text/plain": [
       "    mean_fit_time  std_fit_time  mean_score_time  std_score_time  \\\n",
       "0      488.774826      0.011202        37.387996        0.138529   \n",
       "1       76.044415      0.010370         5.072683        0.030259   \n",
       "2      257.122035      0.175302        15.369239        0.143417   \n",
       "3      165.978122      0.159343        10.481747        0.111451   \n",
       "4      470.304896      0.737094        71.702561        0.478026   \n",
       "5      154.512020      0.359926        12.549266        0.208768   \n",
       "6      205.405043      0.000333        17.997938        0.268348   \n",
       "7      145.710527      0.382719         7.480167        0.024456   \n",
       "8      404.980627      0.863941        46.280472        0.204459   \n",
       "9      473.802852      0.110826        73.492869        0.105033   \n",
       "10     148.940056      0.080034        10.357236        0.009871   \n",
       "11      96.901323      0.162837         5.584944        0.017468   \n",
       "12      63.854494      0.067195         4.097540        0.024009   \n",
       "13     134.104279      0.137714         7.467663        0.066593   \n",
       "14     289.021714      0.448238        18.074003        0.524936   \n",
       "15     220.757625      0.336727        14.934277        0.251627   \n",
       "16     555.266567      0.019629        57.926168        0.292334   \n",
       "17     186.557447      0.169819         9.008858        0.029794   \n",
       "18     661.709921      0.299935        40.562939        0.339685   \n",
       "19      53.000748      0.009279         3.695857        0.015756   \n",
       "20     355.593569      0.589963        41.393838        0.115542   \n",
       "21     316.912415      0.577676        32.066897        0.118741   \n",
       "22     179.734849      0.193847        18.375524        0.036813   \n",
       "23     103.824054      0.005183         8.738807        0.060594   \n",
       "24     389.340834      0.686900        23.684446        0.059073   \n",
       "25     132.760458      0.009645         8.811191        0.048150   \n",
       "26     195.080717      0.278548         5.238750        0.062912   \n",
       "27     127.989392      0.006900        14.604963        0.024208   \n",
       "28      75.775251      0.105722         7.300457        0.068225   \n",
       "29     118.819308      0.581742         6.041367        0.043315   \n",
       "\n",
       "   param_n_estimators param_min_child_weight param_max_depth  \\\n",
       "0                 100                      7              12   \n",
       "1                 100                      5               3   \n",
       "2                 100                      7               6   \n",
       "3                 150                      7               4   \n",
       "4                 200                      1              12   \n",
       "5                  50                      7               8   \n",
       "6                  50                      5              12   \n",
       "7                 150                      7               3   \n",
       "8                 200                      5              10   \n",
       "9                 200                      1              12   \n",
       "10                100                      3               6   \n",
       "11                 50                      5               4   \n",
       "12                 50                      3               3   \n",
       "13                100                      7               3   \n",
       "14                100                      3               8   \n",
       "15                150                      7               6   \n",
       "16                200                      3              10   \n",
       "17                100                      7               4   \n",
       "18                200                      7              10   \n",
       "19                 50                      7               3   \n",
       "20                150                      3              12   \n",
       "21                 50                      5              15   \n",
       "22                100                      1               8   \n",
       "23                 50                      1               8   \n",
       "24                150                      1              10   \n",
       "25                100                      3               5   \n",
       "26                100                      1               6   \n",
       "27                 50                      5              12   \n",
       "28                 50                      3               6   \n",
       "29                100                      5               4   \n",
       "\n",
       "   param_learning_rate param_gamma param_colsample_bytree  \\\n",
       "0                 0.25         0.4                    0.7   \n",
       "1                  0.3         0.3                    0.3   \n",
       "2                  0.2         0.2                    0.7   \n",
       "3                 0.15           0                    0.3   \n",
       "4                  0.1           0                    0.3   \n",
       "5                  0.1         0.3                    0.5   \n",
       "6                  0.3         0.2                    0.4   \n",
       "7                 0.25         0.1                    0.3   \n",
       "8                 0.25           0                    0.3   \n",
       "9                 0.05         0.1                    0.3   \n",
       "10                 0.3         0.1                    0.3   \n",
       "11                 0.3         0.1                    0.7   \n",
       "12                 0.2         0.2                    0.4   \n",
       "13                 0.3         0.1                    0.5   \n",
       "14                 0.3         0.4                    0.5   \n",
       "15                 0.2         0.1                    0.3   \n",
       "16                0.15         0.2                    0.4   \n",
       "17                0.25         0.4                    0.7   \n",
       "18                0.25         0.3                    0.5   \n",
       "19                 0.2           0                    0.3   \n",
       "20                 0.2         0.2                    0.3   \n",
       "21                 0.2         0.2                    0.7   \n",
       "22                0.05         0.1                    0.3   \n",
       "23                 0.1         0.4                    0.3   \n",
       "24                 0.2         0.3                    0.4   \n",
       "25                 0.2           0                    0.3   \n",
       "26                0.25         0.4                    0.7   \n",
       "27                 0.1           0                    0.3   \n",
       "28                 0.2           0                    0.3   \n",
       "29                0.15         0.2                    0.4   \n",
       "\n",
       "                                               params  split0_test_score  \\\n",
       "0   {'n_estimators': 100, 'min_child_weight': 7, '...           0.811738   \n",
       "1   {'n_estimators': 100, 'min_child_weight': 5, '...           0.790290   \n",
       "2   {'n_estimators': 100, 'min_child_weight': 7, '...           0.803062   \n",
       "3   {'n_estimators': 150, 'min_child_weight': 7, '...           0.792194   \n",
       "4   {'n_estimators': 200, 'min_child_weight': 1, '...           0.809901   \n",
       "5   {'n_estimators': 50, 'min_child_weight': 7, 'm...           0.799266   \n",
       "6   {'n_estimators': 50, 'min_child_weight': 5, 'm...           0.809746   \n",
       "7   {'n_estimators': 150, 'min_child_weight': 7, '...           0.791795   \n",
       "8   {'n_estimators': 200, 'min_child_weight': 5, '...           0.809595   \n",
       "9   {'n_estimators': 200, 'min_child_weight': 1, '...           0.804701   \n",
       "10  {'n_estimators': 100, 'min_child_weight': 3, '...           0.800873   \n",
       "11  {'n_estimators': 50, 'min_child_weight': 5, 'm...           0.794755   \n",
       "12  {'n_estimators': 50, 'min_child_weight': 3, 'm...           0.784749   \n",
       "13  {'n_estimators': 100, 'min_child_weight': 7, '...           0.793809   \n",
       "14  {'n_estimators': 100, 'min_child_weight': 3, '...           0.808423   \n",
       "15  {'n_estimators': 150, 'min_child_weight': 7, '...           0.800121   \n",
       "16  {'n_estimators': 200, 'min_child_weight': 3, '...           0.810868   \n",
       "17  {'n_estimators': 100, 'min_child_weight': 7, '...           0.797837   \n",
       "18  {'n_estimators': 200, 'min_child_weight': 7, '...           0.812661   \n",
       "19  {'n_estimators': 50, 'min_child_weight': 7, 'm...           0.783960   \n",
       "20  {'n_estimators': 150, 'min_child_weight': 3, '...           0.810892   \n",
       "21  {'n_estimators': 50, 'min_child_weight': 5, 'm...           0.811197   \n",
       "22  {'n_estimators': 100, 'min_child_weight': 1, '...           0.793240   \n",
       "23  {'n_estimators': 50, 'min_child_weight': 1, 'm...           0.793086   \n",
       "24  {'n_estimators': 150, 'min_child_weight': 1, '...           0.810891   \n",
       "25  {'n_estimators': 100, 'min_child_weight': 3, '...           0.795124   \n",
       "26  {'n_estimators': 100, 'min_child_weight': 1, '...           0.804229   \n",
       "27  {'n_estimators': 50, 'min_child_weight': 5, 'm...           0.800162   \n",
       "28  {'n_estimators': 50, 'min_child_weight': 3, 'm...           0.792988   \n",
       "29  {'n_estimators': 100, 'min_child_weight': 5, '...           0.792372   \n",
       "\n",
       "    split1_test_score  mean_test_score  std_test_score  rank_test_score  \n",
       "0            0.812091         0.811915        0.000176                2  \n",
       "1            0.790186         0.790238        0.000052               28  \n",
       "2            0.802924         0.802993        0.000069               13  \n",
       "3            0.792031         0.792113        0.000082               25  \n",
       "4            0.810054         0.809977        0.000077                7  \n",
       "5            0.799705         0.799485        0.000219               17  \n",
       "6            0.809460         0.809603        0.000143                9  \n",
       "7            0.791773         0.791784        0.000011               27  \n",
       "8            0.809670         0.809632        0.000037                8  \n",
       "9            0.805291         0.804996        0.000295               11  \n",
       "10           0.800082         0.800477        0.000395               14  \n",
       "11           0.794272         0.794514        0.000241               20  \n",
       "12           0.784419         0.784584        0.000165               29  \n",
       "13           0.793121         0.793465        0.000344               21  \n",
       "14           0.808477         0.808450        0.000027               10  \n",
       "15           0.800032         0.800077        0.000045               16  \n",
       "16           0.810832         0.810850        0.000018                5  \n",
       "17           0.797618         0.797728        0.000110               18  \n",
       "18           0.812127         0.812394        0.000267                1  \n",
       "19           0.783888         0.783924        0.000036               30  \n",
       "20           0.810953         0.810923        0.000030                4  \n",
       "21           0.811470         0.811334        0.000136                3  \n",
       "22           0.793388         0.793314        0.000074               23  \n",
       "23           0.793124         0.793105        0.000019               24  \n",
       "24           0.810688         0.810790        0.000102                6  \n",
       "25           0.795002         0.795063        0.000061               19  \n",
       "26           0.804122         0.804175        0.000054               12  \n",
       "27           0.800578         0.800370        0.000208               15  \n",
       "28           0.793679         0.793333        0.000346               22  \n",
       "29           0.791696         0.792034        0.000338               26  "
      ]
     },
     "execution_count": 14,
     "metadata": {},
     "output_type": "execute_result"
    }
   ],
   "source": [
    "pd.DataFrame(random_search.cv_results_)"
   ]
  },
  {
   "cell_type": "code",
   "execution_count": 15,
   "metadata": {},
   "outputs": [
    {
     "data": {
      "text/plain": [
       "XGBClassifier(base_score=0.5, booster='gbtree', colsample_bylevel=1,\n",
       "              colsample_bynode=1, colsample_bytree=0.5, gamma=0.3, gpu_id=-1,\n",
       "              importance_type='gain', interaction_constraints='',\n",
       "              learning_rate=0.25, max_delta_step=0, max_depth=10,\n",
       "              min_child_weight=7, missing=nan, monotone_constraints='()',\n",
       "              n_estimators=200, n_jobs=0, num_parallel_tree=1, random_state=0,\n",
       "              reg_alpha=0, reg_lambda=1, scale_pos_weight=1, subsample=0.8,\n",
       "              tree_method='exact', validate_parameters=1, verbosity=None)"
      ]
     },
     "execution_count": 15,
     "metadata": {},
     "output_type": "execute_result"
    }
   ],
   "source": [
    "random_search.best_estimator_"
   ]
  },
  {
   "cell_type": "code",
   "execution_count": 16,
   "metadata": {},
   "outputs": [
    {
     "data": {
      "text/plain": [
       "0.8157259959386254"
      ]
     },
     "execution_count": 16,
     "metadata": {},
     "output_type": "execute_result"
    }
   ],
   "source": [
    "random_search.score(X_test, y_test) #accuracy measure"
   ]
  },
  {
   "cell_type": "markdown",
   "metadata": {},
   "source": [
    "0.8158804081750887"
   ]
  },
  {
   "cell_type": "code",
   "execution_count": 17,
   "metadata": {},
   "outputs": [
    {
     "name": "stdout",
     "output_type": "stream",
     "text": [
      "Confusion Matrix:\n",
      "[[124646  31232]\n",
      " [ 37431  71883]]\n",
      "Classification Report\n",
      "              precision    recall  f1-score   support\n",
      "\n",
      "           0       0.77      0.80      0.78    155878\n",
      "           1       0.70      0.66      0.68    109314\n",
      "\n",
      "    accuracy                           0.74    265192\n",
      "   macro avg       0.73      0.73      0.73    265192\n",
      "weighted avg       0.74      0.74      0.74    265192\n",
      "\n"
     ]
    }
   ],
   "source": [
    "predictions1 = random_search.predict(X_test)\n",
    "\n",
    "print(\"Confusion Matrix:\")\n",
    "print(confusion_matrix(y_test, predictions1))\n",
    "\n",
    "\n",
    "print(\"Classification Report\")\n",
    "print(classification_report(y_test, predictions1))"
   ]
  },
  {
   "cell_type": "code",
   "execution_count": 18,
   "metadata": {},
   "outputs": [],
   "source": [
    "predictions2 = random_search.predict_proba(X_test)[:,1]"
   ]
  },
  {
   "cell_type": "code",
   "execution_count": 19,
   "metadata": {},
   "outputs": [
    {
     "data": {
      "text/plain": [
       "0.8157259959386254"
      ]
     },
     "execution_count": 19,
     "metadata": {},
     "output_type": "execute_result"
    }
   ],
   "source": [
    "fpr0, tpr0, thresholds0 = metrics.roc_curve(y_test, predictions2)\n",
    "metrics.auc(fpr0, tpr0)"
   ]
  },
  {
   "cell_type": "markdown",
   "metadata": {},
   "source": [
    "0.8158804081750887"
   ]
  },
  {
   "cell_type": "code",
   "execution_count": null,
   "metadata": {},
   "outputs": [],
   "source": []
  },
  {
   "cell_type": "code",
   "execution_count": 44,
   "metadata": {},
   "outputs": [],
   "source": [
    "model = XGBClassifier(base_score=0.5, booster='gbtree', colsample_bylevel=1,\n",
    "              colsample_bynode=1, colsample_bytree=0.4, gamma=0.1, gpu_id=-1,\n",
    "              importance_type='gain', interaction_constraints='',\n",
    "              learning_rate=0.1, max_delta_step=0, max_depth=15,\n",
    "              min_child_weight=3, monotone_constraints='()',\n",
    "              n_estimators=100, n_jobs=0, num_parallel_tree=1, random_state=0,\n",
    "              reg_alpha=0, reg_lambda=1, scale_pos_weight=1, subsample=1,\n",
    "              tree_method='exact', validate_parameters=1, verbosity=None)"
   ]
  },
  {
   "cell_type": "code",
   "execution_count": 45,
   "metadata": {},
   "outputs": [
    {
     "name": "stderr",
     "output_type": "stream",
     "text": [
      "/Users/jerry/anaconda3/lib/python3.7/site-packages/sklearn/utils/validation.py:72: DataConversionWarning: A column-vector y was passed when a 1d array was expected. Please change the shape of y to (n_samples, ), for example using ravel().\n",
      "  return f(**kwargs)\n"
     ]
    }
   ],
   "source": [
    "model1 = model.fit(X_train, y_train)"
   ]
  },
  {
   "cell_type": "code",
   "execution_count": 46,
   "metadata": {},
   "outputs": [],
   "source": [
    "test = pd.read_csv('/Users/jerry/Desktop/udemy courses/Kaggle数据分析/Avito Duplicate Ads Detection/test.csv')\n",
    "X1 = test.drop(['Unnamed: 0','index'],axis=1)\n",
    "#X1 = sc.fit_transform(X1)\n",
    "y_pred1 = model1.predict_proba(X1)"
   ]
  },
  {
   "cell_type": "code",
   "execution_count": 47,
   "metadata": {},
   "outputs": [],
   "source": [
    "pred_test1 = y_pred1[:,1]\n",
    "index = np.array(test['index'].astype(np.int))\n",
    "pred_test2 = {'id':index,'probability':pred_test1}"
   ]
  },
  {
   "cell_type": "code",
   "execution_count": 48,
   "metadata": {},
   "outputs": [],
   "source": [
    "pred_test3 = pd.DataFrame(pred_test2, columns =['id','probability'])"
   ]
  },
  {
   "cell_type": "code",
   "execution_count": 49,
   "metadata": {},
   "outputs": [],
   "source": [
    "pred_test3.to_csv('/Users/jerry/Desktop/udemy courses/Kaggle数据分析/Avito Duplicate Ads Detection/prediction_xgboost.csv',index=False)"
   ]
  },
  {
   "cell_type": "markdown",
   "metadata": {},
   "source": [
    "kaggle score: 0.76589"
   ]
  },
  {
   "cell_type": "code",
   "execution_count": null,
   "metadata": {},
   "outputs": [],
   "source": []
  }
 ],
 "metadata": {
  "kernelspec": {
   "display_name": "Python 3",
   "language": "python",
   "name": "python3"
  },
  "language_info": {
   "codemirror_mode": {
    "name": "ipython",
    "version": 3
   },
   "file_extension": ".py",
   "mimetype": "text/x-python",
   "name": "python",
   "nbconvert_exporter": "python",
   "pygments_lexer": "ipython3",
   "version": "3.7.3"
  }
 },
 "nbformat": 4,
 "nbformat_minor": 2
}
