{
 "cells": [
  {
   "cell_type": "code",
   "execution_count": 1,
   "metadata": {},
   "outputs": [
    {
     "name": "stderr",
     "output_type": "stream",
     "text": [
      "/Users/jerry/anaconda3/lib/python3.7/site-packages/dask/config.py:168: YAMLLoadWarning: calling yaml.load() without Loader=... is deprecated, as the default Loader is unsafe. Please read https://msg.pyyaml.org/load for full details.\n",
      "  data = yaml.load(f.read()) or {}\n",
      "/Users/jerry/anaconda3/lib/python3.7/site-packages/distributed/config.py:20: YAMLLoadWarning: calling yaml.load() without Loader=... is deprecated, as the default Loader is unsafe. Please read https://msg.pyyaml.org/load for full details.\n",
      "  defaults = yaml.load(f)\n"
     ]
    }
   ],
   "source": [
    "import pandas as pd\n",
    "import numpy as np\n",
    "import xgboost as xgb"
   ]
  },
  {
   "cell_type": "markdown",
   "metadata": {},
   "source": [
    "# Training Data"
   ]
  },
  {
   "cell_type": "code",
   "execution_count": 2,
   "metadata": {},
   "outputs": [],
   "source": [
    "iteminfo_train = pd.read_csv('/Users/jerry/Desktop/udemy courses/Kaggle数据分析/Avito Duplicate Ads Detection/ItemInfo_train.csv')\n",
    "itempairs_train = pd.read_csv('/Users/jerry/Desktop/udemy courses/Kaggle数据分析/Avito Duplicate Ads Detection/ItemPairs_train.csv')\n",
    "location = pd.read_csv('/Users/jerry/Desktop/udemy courses/Kaggle数据分析/Avito Duplicate Ads Detection/Location.csv')\n",
    "category = pd.read_csv('/Users/jerry/Desktop/udemy courses/Kaggle数据分析/Avito Duplicate Ads Detection/Category.csv')"
   ]
  },
  {
   "cell_type": "code",
   "execution_count": 3,
   "metadata": {},
   "outputs": [
    {
     "name": "stdout",
     "output_type": "stream",
     "text": [
      "<class 'pandas.core.frame.DataFrame'>\n",
      "RangeIndex: 3344613 entries, 0 to 3344612\n",
      "Data columns (total 11 columns):\n",
      "itemID          int64\n",
      "categoryID      int64\n",
      "title           object\n",
      "description     object\n",
      "images_array    object\n",
      "attrsJSON       object\n",
      "price           float64\n",
      "locationID      int64\n",
      "metroID         float64\n",
      "lat             float64\n",
      "lon             float64\n",
      "dtypes: float64(4), int64(3), object(4)\n",
      "memory usage: 280.7+ MB\n"
     ]
    }
   ],
   "source": [
    "iteminfo_train.info()"
   ]
  },
  {
   "cell_type": "code",
   "execution_count": 4,
   "metadata": {},
   "outputs": [],
   "source": [
    "#用itemID 把 itempairs_train 合并到 iteminfo_train\n",
    "itempairs_train1 = itempairs_train.merge(iteminfo_train,left_on='itemID_1', right_on='itemID', how='left')\n",
    "itempairs_train2 = itempairs_train1.merge(iteminfo_train,left_on='itemID_2', right_on='itemID', how='left')"
   ]
  },
  {
   "cell_type": "code",
   "execution_count": 5,
   "metadata": {},
   "outputs": [
    {
     "name": "stdout",
     "output_type": "stream",
     "text": [
      "<class 'pandas.core.frame.DataFrame'>\n",
      "Int64Index: 2991396 entries, 0 to 2991395\n",
      "Data columns (total 26 columns):\n",
      "itemID_1            int64\n",
      "itemID_2            int64\n",
      "isDuplicate         int64\n",
      "generationMethod    int64\n",
      "itemID_x            int64\n",
      "categoryID_x        int64\n",
      "title_x             object\n",
      "description_x       object\n",
      "images_array_x      object\n",
      "attrsJSON_x         object\n",
      "price_x             float64\n",
      "locationID_x        int64\n",
      "metroID_x           float64\n",
      "lat_x               float64\n",
      "lon_x               float64\n",
      "itemID_y            int64\n",
      "categoryID_y        int64\n",
      "title_y             object\n",
      "description_y       object\n",
      "images_array_y      object\n",
      "attrsJSON_y         object\n",
      "price_y             float64\n",
      "locationID_y        int64\n",
      "metroID_y           float64\n",
      "lat_y               float64\n",
      "lon_y               float64\n",
      "dtypes: float64(8), int64(10), object(8)\n",
      "memory usage: 616.2+ MB\n"
     ]
    }
   ],
   "source": [
    "itempairs_train2.info()"
   ]
  },
  {
   "cell_type": "code",
   "execution_count": 6,
   "metadata": {},
   "outputs": [],
   "source": [
    "itempairs_train3 = itempairs_train2.merge(location,left_on='locationID_x', right_on='locationID', how='left')\n",
    "itempairs_train4 = itempairs_train3.merge(location,left_on='locationID_y', right_on='locationID', how='left')\n",
    "\n",
    "itempairs_train5 = itempairs_train4.merge(category,left_on='categoryID_x', right_on='categoryID', how='left')\n",
    "train = itempairs_train5.merge(category,left_on='categoryID_y', right_on='categoryID', how='left')"
   ]
  },
  {
   "cell_type": "code",
   "execution_count": 7,
   "metadata": {
    "scrolled": false
   },
   "outputs": [
    {
     "name": "stdout",
     "output_type": "stream",
     "text": [
      "<class 'pandas.core.frame.DataFrame'>\n",
      "Int64Index: 2991396 entries, 0 to 2991395\n",
      "Data columns (total 34 columns):\n",
      "itemID_1              int64\n",
      "itemID_2              int64\n",
      "isDuplicate           int64\n",
      "generationMethod      int64\n",
      "itemID_x              int64\n",
      "categoryID_x          int64\n",
      "title_x               object\n",
      "description_x         object\n",
      "images_array_x        object\n",
      "attrsJSON_x           object\n",
      "price_x               float64\n",
      "locationID_x          int64\n",
      "metroID_x             float64\n",
      "lat_x                 float64\n",
      "lon_x                 float64\n",
      "itemID_y              int64\n",
      "categoryID_y          int64\n",
      "title_y               object\n",
      "description_y         object\n",
      "images_array_y        object\n",
      "attrsJSON_y           object\n",
      "price_y               float64\n",
      "locationID_y          int64\n",
      "metroID_y             float64\n",
      "lat_y                 float64\n",
      "lon_y                 float64\n",
      "locationID_x          int64\n",
      "regionID_x            int64\n",
      "locationID_y          int64\n",
      "regionID_y            int64\n",
      "categoryID_x          int64\n",
      "parentCategoryID_x    int64\n",
      "categoryID_y          int64\n",
      "parentCategoryID_y    int64\n",
      "dtypes: float64(8), int64(18), object(8)\n",
      "memory usage: 798.8+ MB\n"
     ]
    }
   ],
   "source": [
    "train.info()"
   ]
  },
  {
   "cell_type": "code",
   "execution_count": 8,
   "metadata": {},
   "outputs": [],
   "source": [
    "train.to_csv('/Users/jerry/Desktop/udemy courses/Kaggle数据分析/Avito Duplicate Ads Detection/t.csv')"
   ]
  },
  {
   "cell_type": "code",
   "execution_count": 9,
   "metadata": {},
   "outputs": [],
   "source": [
    "train = pd.read_csv('/Users/jerry/Desktop/udemy courses/Kaggle数据分析/Avito Duplicate Ads Detection/t.csv')"
   ]
  },
  {
   "cell_type": "code",
   "execution_count": 10,
   "metadata": {},
   "outputs": [
    {
     "name": "stdout",
     "output_type": "stream",
     "text": [
      "<class 'pandas.core.frame.DataFrame'>\n",
      "RangeIndex: 2991396 entries, 0 to 2991395\n",
      "Data columns (total 35 columns):\n",
      "Unnamed: 0            int64\n",
      "itemID_1              int64\n",
      "itemID_2              int64\n",
      "isDuplicate           int64\n",
      "generationMethod      int64\n",
      "itemID_x              int64\n",
      "categoryID_x          int64\n",
      "title_x               object\n",
      "description_x         object\n",
      "images_array_x        object\n",
      "attrsJSON_x           object\n",
      "price_x               float64\n",
      "locationID_x          int64\n",
      "metroID_x             float64\n",
      "lat_x                 float64\n",
      "lon_x                 float64\n",
      "itemID_y              int64\n",
      "categoryID_y          int64\n",
      "title_y               object\n",
      "description_y         object\n",
      "images_array_y        object\n",
      "attrsJSON_y           object\n",
      "price_y               float64\n",
      "locationID_y          int64\n",
      "metroID_y             float64\n",
      "lat_y                 float64\n",
      "lon_y                 float64\n",
      "locationID_x.1        int64\n",
      "regionID_x            int64\n",
      "locationID_y.1        int64\n",
      "regionID_y            int64\n",
      "categoryID_x.1        int64\n",
      "parentCategoryID_x    int64\n",
      "categoryID_y.1        int64\n",
      "parentCategoryID_y    int64\n",
      "dtypes: float64(8), int64(19), object(8)\n",
      "memory usage: 798.8+ MB\n"
     ]
    }
   ],
   "source": [
    "train.info()"
   ]
  },
  {
   "cell_type": "code",
   "execution_count": 11,
   "metadata": {},
   "outputs": [],
   "source": [
    "#去掉 重复多余的column\n",
    "\n",
    "train1 = train.drop(['locationID_x.1','locationID_y.1','categoryID_x.1','categoryID_y.1'],axis = 1)\n",
    "\n",
    "#metroID有太多 missing data\n",
    "#title, attrsJSON, description 不是英文\n",
    "#images 暂时不用\n",
    "#item id 重复了 \n",
    "train2 = train1.drop(['Unnamed: 0',  'images_array_x',\n",
    "                      'images_array_y', 'attrsJSON_x', 'attrsJSON_y', 'generationMethod', 'metroID_x', \n",
    "                      'metroID_y','itemID_x', 'itemID_y'], axis=1)\n",
    "#数据多 所以简单粗暴去掉 NULL\n",
    "train3 = train2.dropna()\n",
    "\n",
    "import math \n",
    "\n",
    "y = train3.isDuplicate\n",
    "\n",
    "#price diff 取price小的item的百分比\n",
    "price = abs(train3.price_x - train3.price_y)/train3[[\"price_x\", \"price_y\"]].min(axis=1)\n",
    "\n",
    "#看是不是相同\n",
    "samelocation = 1*(train3.locationID_x == train3.locationID_y)\n",
    "description = 1*(train3.description_x == train3.description_y)\n",
    "title = 1*(train3.title_x == train3.title_y)\n",
    "samecategory = 1*(train3.categoryID_x == train3.categoryID_y)\n",
    "region = 1*(train3.regionID_x == train3.regionID_y)\n",
    "parentCategory = 1*(train3.parentCategoryID_x == train3.parentCategoryID_y)\n",
    "\n",
    "#把lat lon当做x y 坐标，计算distance\n",
    "lat = abs(train3.lat_x - train3.lat_y)\n",
    "lon = abs(train3.lon_x - train3.lon_y)\n",
    "distance = (lat**2 + lon**2)**(.5)\n",
    "\n",
    "\n",
    "d = {'isDuplicate': y, 'price': price, 'location': samelocation, \n",
    "     'distance':distance,\n",
    "     'description':description, 'title':title, \n",
    "     'category': samecategory, 'region': region, 'parentCategory': parentCategory}\n",
    "X = pd.DataFrame(data=d)"
   ]
  },
  {
   "cell_type": "code",
   "execution_count": 12,
   "metadata": {},
   "outputs": [],
   "source": [
    "X.to_csv('/Users/jerry/Desktop/udemy courses/Kaggle数据分析/Avito Duplicate Ads Detection/train.csv')"
   ]
  },
  {
   "cell_type": "markdown",
   "metadata": {},
   "source": [
    "# Testing Data"
   ]
  },
  {
   "cell_type": "code",
   "execution_count": 22,
   "metadata": {},
   "outputs": [],
   "source": [
    "itempairs_test = pd.read_csv('/Users/jerry/Desktop/udemy courses/Kaggle数据分析/Avito Duplicate Ads Detection/ItemPairs_test.csv')"
   ]
  },
  {
   "cell_type": "code",
   "execution_count": 23,
   "metadata": {},
   "outputs": [],
   "source": [
    "iteminfo_test = pd.read_csv('/Users/jerry/Desktop/udemy courses/Kaggle数据分析/Avito Duplicate Ads Detection/ItemInfo_test.csv')"
   ]
  },
  {
   "cell_type": "code",
   "execution_count": 24,
   "metadata": {},
   "outputs": [],
   "source": [
    "#用itemID 把 itempairs_train 合并到 iteminfo_train\n",
    "\n",
    "itempairs_test1 = itempairs_test.merge(iteminfo_test,left_on='itemID_1', right_on='itemID', how='left')\n",
    "itempairs_test2 = itempairs_test1.merge(iteminfo_test,left_on='itemID_2', right_on='itemID', how='left')"
   ]
  },
  {
   "cell_type": "code",
   "execution_count": 25,
   "metadata": {},
   "outputs": [],
   "source": [
    "#把location和category合并过来\n",
    "\n",
    "itempairs_test3 = itempairs_test2.merge(location,left_on='locationID_x', right_on='locationID', how='left')\n",
    "itempairs_test4 = itempairs_test3.merge(location,left_on='locationID_y', right_on='locationID', how='left')\n",
    "\n",
    "itempairs_test5 = itempairs_test4.merge(category,left_on='categoryID_x', right_on='categoryID', how='left')\n",
    "test = itempairs_test5.merge(category,left_on='categoryID_y', right_on='categoryID', how='left')"
   ]
  },
  {
   "cell_type": "code",
   "execution_count": 26,
   "metadata": {},
   "outputs": [
    {
     "name": "stdout",
     "output_type": "stream",
     "text": [
      "<class 'pandas.core.frame.DataFrame'>\n",
      "Int64Index: 1044196 entries, 0 to 1044195\n",
      "Data columns (total 33 columns):\n",
      "id                    1044196 non-null int64\n",
      "itemID_1              1044196 non-null int64\n",
      "itemID_2              1044196 non-null int64\n",
      "itemID_x              1044196 non-null int64\n",
      "categoryID_x          1044196 non-null int64\n",
      "title_x               1044194 non-null object\n",
      "description_x         1044171 non-null object\n",
      "images_array_x        926463 non-null object\n",
      "attrsJSON_x           1005706 non-null object\n",
      "price_x               914825 non-null float64\n",
      "locationID_x          1044196 non-null int64\n",
      "metroID_x             303388 non-null float64\n",
      "lat_x                 1044196 non-null float64\n",
      "lon_x                 1044196 non-null float64\n",
      "itemID_y              1044196 non-null int64\n",
      "categoryID_y          1044196 non-null int64\n",
      "title_y               1044196 non-null object\n",
      "description_y         1044172 non-null object\n",
      "images_array_y        926222 non-null object\n",
      "attrsJSON_y           1005706 non-null object\n",
      "price_y               914496 non-null float64\n",
      "locationID_y          1044196 non-null int64\n",
      "metroID_y             304081 non-null float64\n",
      "lat_y                 1044196 non-null float64\n",
      "lon_y                 1044196 non-null float64\n",
      "locationID_x          1044196 non-null int64\n",
      "regionID_x            1044196 non-null int64\n",
      "locationID_y          1044196 non-null int64\n",
      "regionID_y            1044196 non-null int64\n",
      "categoryID_x          1044196 non-null int64\n",
      "parentCategoryID_x    1044196 non-null int64\n",
      "categoryID_y          1044196 non-null int64\n",
      "parentCategoryID_y    1044196 non-null int64\n",
      "dtypes: float64(8), int64(17), object(8)\n",
      "memory usage: 270.9+ MB\n"
     ]
    }
   ],
   "source": [
    "test.info()"
   ]
  },
  {
   "cell_type": "code",
   "execution_count": 27,
   "metadata": {},
   "outputs": [],
   "source": [
    "test.to_csv('/Users/jerry/Desktop/udemy courses/Kaggle数据分析/Avito Duplicate Ads Detection/te.csv')"
   ]
  },
  {
   "cell_type": "code",
   "execution_count": 28,
   "metadata": {},
   "outputs": [],
   "source": [
    "test = pd.read_csv('/Users/jerry/Desktop/udemy courses/Kaggle数据分析/Avito Duplicate Ads Detection/te.csv')"
   ]
  },
  {
   "cell_type": "code",
   "execution_count": 29,
   "metadata": {},
   "outputs": [],
   "source": [
    "#和train一样的过程\n",
    "test1 = test.drop(['locationID_x.1','locationID_y.1','categoryID_x.1','categoryID_y.1'],axis = 1)\n",
    "test2 = test1.drop(['Unnamed: 0','images_array_x',\n",
    "                      'images_array_y', 'attrsJSON_x', 'attrsJSON_y', 'metroID_x', \n",
    "                      'metroID_y','itemID_x', 'itemID_y'], axis=1)\n",
    "\n",
    "price1 = abs(test2.price_x - test2.price_y)/test2[[\"price_x\", \"price_y\"]].min(axis=1)\n",
    "samelocation1 = 1*(test2.locationID_x == test2.locationID_y)\n",
    "\n",
    "price1.fillna(price1.mean(), inplace=True) #data imputation using mean value\n",
    "\n",
    "lat1 = abs(test2.lat_x - test2.lat_y)\n",
    "lon1 = abs(test2.lon_x - test2.lon_y)\n",
    "distance1 = (lat1**2 + lon1**2)**(.5)\n",
    "\n",
    "description1 = 1*(test2.description_x == test2.description_y)\n",
    "title1 = 1*(test2.title_x == test2.title_y)\n",
    "samecategory1 = 1*(test2.categoryID_x == test2.categoryID_y)\n",
    "region1 = 1*(test2.regionID_x == test2.regionID_y)\n",
    "parentCategory1 = 1*(test2.parentCategoryID_x == test2.parentCategoryID_y)\n",
    "\n",
    "index = np.array(test2['id'].astype(np.int))\n",
    "\n",
    "d1 = {'index':index, 'price': price1, 'location': samelocation1, \n",
    "     'distance':distance1,\n",
    "     'description':description1, 'title':title1, \n",
    "     'category': samecategory1, 'region': region1, 'parentCategory': parentCategory1}\n",
    "X1 = pd.DataFrame(data=d1)"
   ]
  },
  {
   "cell_type": "code",
   "execution_count": 30,
   "metadata": {},
   "outputs": [],
   "source": [
    "X1.to_csv('/Users/jerry/Desktop/udemy courses/Kaggle数据分析/Avito Duplicate Ads Detection/test.csv')"
   ]
  }
 ],
 "metadata": {
  "kernelspec": {
   "display_name": "Python 3",
   "language": "python",
   "name": "python3"
  },
  "language_info": {
   "codemirror_mode": {
    "name": "ipython",
    "version": 3
   },
   "file_extension": ".py",
   "mimetype": "text/x-python",
   "name": "python",
   "nbconvert_exporter": "python",
   "pygments_lexer": "ipython3",
   "version": "3.7.3"
  }
 },
 "nbformat": 4,
 "nbformat_minor": 2
}
